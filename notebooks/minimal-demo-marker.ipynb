{
 "cells": [
  {
   "cell_type": "code",
   "execution_count": 1,
   "id": "608ea633",
   "metadata": {},
   "outputs": [],
   "source": [
    "%load_ext autoreload\n",
    "%autoreload 2"
   ]
  },
  {
   "cell_type": "code",
   "execution_count": 2,
   "id": "9121ae60",
   "metadata": {},
   "outputs": [],
   "source": [
    "from functorch import vmap\n",
    "import matplotlib.pyplot as plt\n",
    "import torch.nn.functional as F\n",
    "\n",
    "from caustic.utils import get_meshgrid\n",
    "from caustic_v2 import *\n",
    "\n",
    "thx, thy = get_meshgrid(0.05, 100, 100)"
   ]
  },
  {
   "cell_type": "markdown",
   "id": "ea5e45d5",
   "metadata": {},
   "source": [
    "My goal in this notebook and `caustic_v2.py` is to clarify the core concepts in Alex prototyping: marking which model parameters in the input `x` are static versus dynamic, properly funneling arguments through model components and flexibly converting between representing parameters using a `kwargs` `dict`, a list of `args` and flattened tensors.\n",
    "\n",
    "Similarly to Alex, my implementation has a `Param` class (analogous to `nn.Parameter`) that tracks whether a given parameter is static or dynamic. I also have a `Parametrized` classes (analogous to `nn.Module`) that keeps track of its parameters and any members that are themselves `Parametrized`. This class can unpack `x` to retrieve its parameters, and can repack `x` into a `dict` that forwards properly to any `Parametrized` members.\n",
    "\n",
    "One of the main differences is that I've removed some of the \"probabilistic programming\" logic (constraints, transforms and `log_abs_det_jacobian` calculations).\n",
    "\n",
    "I've also removed `ParameterList` and `ParameterCollection`: this logic is now pretty much contained in `Parametrized`. The idea now is to recursively register parameters of children:"
   ]
  },
  {
   "cell_type": "code",
   "execution_count": 20,
   "id": "477923f4",
   "metadata": {},
   "outputs": [],
   "source": [
    "class Nested1(Parametrized):\n",
    "    def __init__(self, p1=None, name=\"n1\"):\n",
    "        super().__init__(name)\n",
    "        self.add_param(\"p1\", p1)\n",
    "\n",
    "    def __call__(self, x):\n",
    "        p1 = self.unpack(x)\n",
    "        print(f\"p1 is {p1}\")\n",
    "\n",
    "\n",
    "class Nested2(Parametrized):\n",
    "    def __init__(self, n1, p2=None, name=\"n2\"):\n",
    "        super().__init__(name)\n",
    "        self.add_param(\"p2\", p2)\n",
    "        self.n1 = n1\n",
    "\n",
    "    def __call__(self, x):\n",
    "        p2 = self.unpack(x)\n",
    "        print(f\"p2 is {p2}\")\n",
    "\n",
    "\n",
    "class Nested3(Parametrized):\n",
    "    def __init__(self, n1, n2, p3=None, name=\"n3\"):\n",
    "        super().__init__(name)\n",
    "        self.add_param(\"p3\", p3)\n",
    "        self.n1 = n1\n",
    "        self.n2 = n2\n",
    "\n",
    "    def __call__(self, x):\n",
    "        p3 = self.unpack(x)\n",
    "        self.n1(x)\n",
    "        self.n2(x)\n",
    "        print(f\"p3 is {p3}\")"
   ]
  },
  {
   "cell_type": "code",
   "execution_count": 35,
   "id": "4e8b571c",
   "metadata": {},
   "outputs": [
    {
     "name": "stdout",
     "output_type": "stream",
     "text": [
      "model: Nested3(\n",
      "    name='n3',\n",
      "    static params=['p1'],\n",
      "    dynamic params=['p3', 'p2']\n",
      ") \n",
      "\n",
      "repacked args: {'n3': tensor([3.]), 'n1': tensor([]), 'n2': tensor([2.])} \n",
      "\n",
      "model output:\n",
      "p1 is [tensor(1.)]\n",
      "p2 is [tensor(2.)]\n",
      "p3 is [tensor(3.)]\n"
     ]
    }
   ],
   "source": [
    "n1 = Nested1(torch.tensor(1.0))\n",
    "n2 = Nested2(n1)\n",
    "n3 = Nested3(n1, n2)\n",
    "print(\"model:\", n3, \"\\n\")\n",
    "print(\"repacked args:\", n3.x_to_dict(torch.tensor([3.0, 2.0])), \"\\n\")\n",
    "print(\"model output:\")\n",
    "n3(n3.x_to_dict(torch.tensor([3.0, 2.0])))"
   ]
  },
  {
   "cell_type": "code",
   "execution_count": null,
   "id": "b9a63270",
   "metadata": {},
   "outputs": [],
   "source": []
  },
  {
   "cell_type": "markdown",
   "id": "e284bc90",
   "metadata": {},
   "source": [
    "This cell initializes some lensing model components, evaluates them and shows they still work fine with `vmap`."
   ]
  },
  {
   "cell_type": "code",
   "execution_count": 54,
   "id": "f75e5249",
   "metadata": {},
   "outputs": [
    {
     "name": "stdout",
     "output_type": "stream",
     "text": [
      "Sersic(\n",
      "    name='src',\n",
      "    static params=['thx0', 'thy0', 's'],\n",
      "    dynamic params=['q', 'phi', 'index', 'th_e', 'I_e']\n",
      ") \n",
      "\n",
      "evaluating src: tensor(4.0546) \n",
      "\n",
      "vmap src: tensor([3.9431, 4.6207, 4.0885, 4.1725]) \n",
      "\n",
      "FlatLambdaCDMCosmology(\n",
      "    name='cosmo',\n",
      "    static params=['rho_cr_0', 'Om0'],\n",
      "    dynamic params=['h0']\n",
      ") \n",
      "\n",
      "comoving distance: tensor(3089.6018) \n",
      "\n",
      "SIE(\n",
      "    name='sie',\n",
      "    static params=['z_l', 's', 'rho_cr_0', 'Om0'],\n",
      "    dynamic params=['thx0', 'thy0', 'q', 'phi', 'b', 'h0']\n",
      ") \n",
      "\n",
      "running alpha_hat (which calls cosmology methods): torch.Size([100, 100]) \n",
      "\n",
      "vmap shape check: torch.Size([10, 100, 100]) \n",
      "\n"
     ]
    }
   ],
   "source": [
    "src = Sersic(\"src\", torch.tensor(1.0), torch.tensor(0.0))\n",
    "print(src, \"\\n\")\n",
    "\n",
    "x_src = torch.tensor([0.7, pi / 6, 4.0, 5.0, 1.0])\n",
    "print(\"evaluating src:\", src.brightness(1.0, 2.0, src.x_to_dict(x_src)), \"\\n\")\n",
    "\n",
    "x_src_batch = x_src.repeat(4, 1) + torch.randn(4, 5) * 0.05\n",
    "print(\n",
    "    \"vmap src:\",\n",
    "    vmap(src.brightness, (None, None, 0))(1.0, 2.0, src.x_to_dict(x_src_batch)),\n",
    "    \"\\n\",\n",
    ")\n",
    "\n",
    "cosmo = FlatLambdaCDMCosmology(\"cosmo\", h0=None)\n",
    "print(cosmo, \"\\n\")\n",
    "\n",
    "print(\n",
    "    \"comoving distance:\",\n",
    "    cosmo.comoving_dist(torch.tensor(1.0), cosmo.x_to_dict([1.1 * h0_default])),\n",
    "    \"\\n\",\n",
    ")\n",
    "\n",
    "cosmo = FlatLambdaCDMCosmology(\"cosmo\", h0=None)\n",
    "sie = SIE(\"sie\", cosmo, z_l=torch.tensor(1.1))\n",
    "print(sie, \"\\n\")\n",
    "\n",
    "x_sie = torch.tensor([0.2, 0.01, 0.7, 0.3, 1.2, 0.7])  # last entry is H0\n",
    "print(\n",
    "    \"running alpha_hat (which calls cosmology methods):\",\n",
    "    sie.alpha_hat(thx, thy, torch.tensor(0.8), sie.x_to_dict(x_sie))[0].shape,\n",
    "    \"\\n\",\n",
    ")\n",
    "\n",
    "x_sie_batch = x_sie.repeat(10, 1)\n",
    "print(\n",
    "    \"vmap shape check:\",\n",
    "    vmap(sie.alpha, (None, None, None, 0))(\n",
    "        thx, thy, torch.tensor(0.8), sie.x_to_dict(x_sie_batch)\n",
    "    )[0].shape,\n",
    "    \"\\n\",\n",
    ")"
   ]
  },
  {
   "cell_type": "code",
   "execution_count": null,
   "id": "8ffec617",
   "metadata": {},
   "outputs": [],
   "source": []
  },
  {
   "cell_type": "markdown",
   "id": "a368cbc5",
   "metadata": {},
   "source": [
    "Here's what a simple simulator looks like."
   ]
  },
  {
   "cell_type": "code",
   "execution_count": 40,
   "id": "e563481e",
   "metadata": {},
   "outputs": [],
   "source": [
    "class Simulator(Parametrized):\n",
    "    def __init__(\n",
    "        self,\n",
    "        res,\n",
    "        n_pix,\n",
    "        lens,\n",
    "        src,\n",
    "        z_s=None,\n",
    "        upsample_factor=4,\n",
    "        name: str = \"simulator\",\n",
    "    ):\n",
    "        super().__init__(name)\n",
    "        self.lens = lens\n",
    "        self.src = src\n",
    "        self.add_param(\"z_s\", z_s)\n",
    "        self.upsample_factor = upsample_factor\n",
    "\n",
    "        self._thx_fine, self._thy_fine = get_meshgrid(\n",
    "            res / upsample_factor, n_pix * upsample_factor, n_pix * upsample_factor\n",
    "        )\n",
    "        self.thx, self.thy = get_meshgrid(res, n_pix, n_pix)\n",
    "\n",
    "    def forward(self, x):\n",
    "        x = self.x_to_dict(x)\n",
    "\n",
    "        z_s = self.unpack(x)\n",
    "        bx, by = self.lens.raytrace(self._thx_fine, self._thy_fine, z_s, x)\n",
    "        mu_fine = self.src.brightness(bx, by, x)\n",
    "        return F.avg_pool2d(mu_fine[None, None], self.upsample_factor)[0, 0]"
   ]
  },
  {
   "cell_type": "code",
   "execution_count": 51,
   "id": "99b13b57",
   "metadata": {},
   "outputs": [
    {
     "name": "stdout",
     "output_type": "stream",
     "text": [
      "Simulator(\n",
      "    name='simulator',\n",
      "    static params=['z_s', 'z_l', 'thx0', 'thy0', 'q', 'phi', 'b', 's', 'rho_cr_0', 'Om0', 'index', 'th_e', 'I_e'],\n",
      "    dynamic params=['h0', 'thx0', 'thy0']\n",
      ") \n",
      "\n",
      "testing x size error checking:\n",
      "caught exception:  0 flattened dynamic args were passed, but 3 are required \n",
      "\n",
      "running with valid argument vector\n",
      "\n",
      "vmap shape check: torch.Size([10, 50, 50])\n"
     ]
    },
    {
     "data": {
      "image/png": "[encoded data removed]",
      "text/plain": [
       "<Figure size 432x288 with 1 Axes>"
      ]
     },
     "metadata": {
      "needs_background": "light"
     },
     "output_type": "display_data"
    }
   ],
   "source": [
    "# Set up cosmology, marking H0 as dynamic\n",
    "cosmo = FlatLambdaCDMCosmology(\"cosmo\", h0=None)\n",
    "\n",
    "# Static SIE args: thx0, thy0, q, phi, b, z_l\n",
    "x_lens = torch.tensor([0.0, 0.0, 0.8, pi / 6, 1.5, 0.8])\n",
    "sie = SIE(\"sie\", cosmo, *x_lens)\n",
    "\n",
    "# Static Sersic args: q, phi, index, th_e, I_e\n",
    "x_src = torch.tensor([0.6, pi / 4, 4.0, 2.5, 1.0])\n",
    "src = Sersic(\"src\", None, None, *x_src)\n",
    "\n",
    "sim = Simulator(0.1, 50, sie, src, torch.tensor(0.8))\n",
    "print(sim, \"\\n\")\n",
    "\n",
    "print(\"testing x size error checking:\")\n",
    "x = torch.tensor([])\n",
    "try:\n",
    "    sim.x_to_dict(x)\n",
    "except ValueError as e:\n",
    "    print(\"caught exception: \", e, \"\\n\")\n",
    "\n",
    "print(\"running with valid argument vector\")\n",
    "x = torch.tensor([0.7, 0.13, 0.04])\n",
    "plt.imshow(sim.forward(x), origin=\"lower\", cmap=\"RdBu_r\")\n",
    "print()\n",
    "\n",
    "print(\"vmap shape check:\", vmap(sim.forward)(x.repeat(10, 1)).shape)"
   ]
  },
  {
   "cell_type": "code",
   "execution_count": null,
   "id": "a54c4450",
   "metadata": {},
   "outputs": [],
   "source": []
  },
  {
   "cell_type": "markdown",
   "id": "6f9ed59c",
   "metadata": {},
   "source": [
    "There are a few things I'm not clear on with this approach.\n",
    "- In this approach, I don't think we can't run the same model component on different parameters: through the component's name, it's tied to one set of parameters in `x`. This makes it expensive to do things like include multiple `KappaGrid` lenses: each set of `Param`s must be associated with one `KappaGrid`, so we need to create a redundant set of kernels.\n",
    "- How should we handle `Param`s like `z_s`? In what's above, I made this a parameter of the simulator, but that means we have to explicitly pass it to `raytrace`. How will this generalize?\n",
    "- Is it confusing that names of `Param`s and `Parametrized` don't match the names of the attributes they're bound to?"
   ]
  },
  {
   "cell_type": "code",
   "execution_count": null,
   "id": "33970413",
   "metadata": {},
   "outputs": [],
   "source": []
  }
 ],
 "metadata": {
  "kernelspec": {
   "display_name": "Python 3 (ipykernel)",
   "language": "python",
   "name": "python3"
  },
  "language_info": {
   "codemirror_mode": {
    "name": "ipython",
    "version": 3
   },
   "file_extension": ".py",
   "mimetype": "text/x-python",
   "name": "python",
   "nbconvert_exporter": "python",
   "pygments_lexer": "ipython3",
   "version": "3.10.3"
  }
 },
 "nbformat": 4,
 "nbformat_minor": 5
}
