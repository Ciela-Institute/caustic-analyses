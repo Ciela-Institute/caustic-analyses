{
 "cells": [
  {
   "cell_type": "code",
   "execution_count": 1,
   "id": "03cff393",
   "metadata": {},
   "outputs": [],
   "source": [
    "%load_ext autoreload\n",
    "%autoreload 2"
   ]
  },
  {
   "cell_type": "code",
   "execution_count": 2,
   "id": "9754277a",
   "metadata": {},
   "outputs": [],
   "source": [
    "from math import pi\n",
    "\n",
    "import functorch\n",
    "from matplotlib.colors import CenteredNorm\n",
    "import matplotlib.pyplot as plt\n",
    "import torch\n",
    "import torch.nn.functional as F\n",
    "\n",
    "from caustic.cosmology import FlatLambdaCDMCosmology\n",
    "from caustic.lenses import EPL, get_pix_jacobian\n",
    "from caustic.sources import Sersic\n",
    "from caustic.utils import get_meshgrid\n",
    "from levmarq_torch import minimize_levmarq, minimize_levmarq_new\n",
    "\n",
    "\n",
    "device = \"cpu\""
   ]
  },
  {
   "cell_type": "code",
   "execution_count": 3,
   "id": "31507c40",
   "metadata": {},
   "outputs": [],
   "source": [
    "fov = 5.0\n",
    "n_pix = 400\n",
    "res = fov / n_pix\n",
    "upsample_factor = 4\n",
    "_thx_fine, _thy_fine = get_meshgrid(\n",
    "    res / upsample_factor, upsample_factor * n_pix, upsample_factor * n_pix, device\n",
    ")\n",
    "thx, thy = get_meshgrid(res, n_pix, n_pix, device)\n",
    "\n",
    "extent = (-fov / 2, fov / 2, -fov / 2, fov / 2)"
   ]
  },
  {
   "cell_type": "code",
   "execution_count": 4,
   "id": "97cb0572",
   "metadata": {},
   "outputs": [],
   "source": [
    "lens = EPL(device)\n",
    "src = Sersic(device)\n",
    "z_l = torch.tensor(0.5, device=device)\n",
    "z_s = torch.tensor(2.1, device=device)\n",
    "cosmology = FlatLambdaCDMCosmology(device=device)\n",
    "sigma_n = torch.tensor(20.0) * 0"
   ]
  },
  {
   "cell_type": "code",
   "execution_count": 5,
   "id": "3e602414",
   "metadata": {},
   "outputs": [],
   "source": [
    "def simulate(x_lens, x_src):\n",
    "    \"\"\"\n",
    "    Args:\n",
    "        x_lens: tensor of lens arguments.\n",
    "        x_src: tensor of source arguments.\n",
    "    \"\"\"\n",
    "    # Ray-trace\n",
    "    beta_x, beta_y = lens.raytrace(\n",
    "        _thx_fine, _thy_fine, z_l, z_s, cosmology, *x_lens\n",
    "    )\n",
    "    # Evaluate source\n",
    "    mu_fine = src.brightness(beta_x, beta_y, *x_src)\n",
    "    # Downsample\n",
    "    mu = F.avg_pool2d(mu_fine[None, None, :, :], upsample_factor)[0, 0]\n",
    "    # Add noise\n",
    "    return mu + sigma_n * torch.randn_like(mu)"
   ]
  },
  {
   "cell_type": "markdown",
   "id": "2a0ffaaf",
   "metadata": {},
   "source": [
    "Test solver"
   ]
  },
  {
   "cell_type": "code",
   "execution_count": 6,
   "id": "35fcc900",
   "metadata": {},
   "outputs": [],
   "source": [
    "# def kmeans(xs, k, n_iter):\n",
    "#     # Initialize means with Forgy method\n",
    "#     b = len(xs)\n",
    "#     means = xs[torch.randperm(b)[:k]]\n",
    "    \n",
    "#     for _ in range(n_iter):\n",
    "#         # E step: assign points to clusters\n",
    "#         # Row: x index, col: mean index\n",
    "#         d2s = ((xs[:, None, :] - means[None, :, :])**2).sum(-1)\n",
    "#         idxs = d2s.argmin(-1)\n",
    "#         # M step: update means\n",
    "#         means = torch.stack([xs[idxs == i].mean(0) for i in range(4)])\n",
    "    \n",
    "#     return means\n",
    "\n",
    "\n",
    "def get_cluster_means(xs, k):\n",
    "    \"\"\"\n",
    "    Runs the k-means++ initialization algorithm.\n",
    "    \"\"\"\n",
    "    b = len(xs)\n",
    "    mean_idxs = [torch.randint(high=b, size=(), device=xs.device).item()]\n",
    "    means = [xs[mean_idxs[0]]]\n",
    "    for _ in range(1, k):\n",
    "        unselected_xs = torch.stack([x for i, x in enumerate(xs) if i not in mean_idxs])\n",
    "        \n",
    "        # Distances to all means\n",
    "        d2s = ((unselected_xs[:, None, :] - torch.stack(means)[None, :, :]) ** 2).sum(\n",
    "            -1\n",
    "        )\n",
    "        \n",
    "        # Distances to closest mean\n",
    "        d2s_closest = torch.tensor([d2s[i, m] for i, m in enumerate(d2s.argmin(-1))])\n",
    "        \n",
    "        # Add point furthest from closest mean as next mean\n",
    "        new_idx = d2s_closest.argmax().item()\n",
    "        means.append(unselected_xs[new_idx])\n",
    "        mean_idxs.append(new_idx)\n",
    "\n",
    "    return torch.stack(means)"
   ]
  },
  {
   "cell_type": "code",
   "execution_count": 57,
   "id": "69dd5e44",
   "metadata": {},
   "outputs": [],
   "source": [
    "# EPL args: thx0, thy0, q, phi, b, t\n",
    "x_lens = torch.tensor([0.0, 0.0, 0.8, pi / 6, 1.5, 1.1], device=device)\n",
    "# Sersic args: thx0, thy0, q, phi, index, th_e, I_e\n",
    "thx0_src = 0.14\n",
    "thy0_src = 0.04\n",
    "th_e = 0.01\n",
    "x_src = torch.tensor([thx0_src, thy0_src, 1.0, 0.0, 4.0, th_e, 1.0], device=device)\n",
    "mu = simulate(x_lens, x_src)"
   ]
  },
  {
   "cell_type": "code",
   "execution_count": 2,
   "id": "ea320435",
   "metadata": {},
   "outputs": [],
   "source": [
    "import torch"
   ]
  },
  {
   "cell_type": "code",
   "execution_count": 15,
   "id": "9fb66249",
   "metadata": {},
   "outputs": [
    {
     "data": {
      "text/plain": [
       "tensor([[-2.1872, -1.0951],\n",
       "        [ 1.9491,  0.4899],\n",
       "        [ 0.8466, -0.8669],\n",
       "        [-1.3856,  1.4479],\n",
       "        [ 2.0346,  2.1166],\n",
       "        [-0.8333, -0.1126],\n",
       "        [-0.1398, -1.6306],\n",
       "        [ 2.1214, -1.2801],\n",
       "        [ 0.7647, -1.0792],\n",
       "        [-1.4923,  1.5856]])"
      ]
     },
     "execution_count": 15,
     "metadata": {},
     "output_type": "execute_result"
    }
   ],
   "source": [
    "torch.tensor([5.0, 5.0])[None, :] * torch.rand(10, 2) + torch.tensor((-2.5, -2.5))[None, :]"
   ]
  },
  {
   "cell_type": "code",
   "execution_count": null,
   "id": "03044539",
   "metadata": {},
   "outputs": [],
   "source": []
  },
  {
   "cell_type": "code",
   "execution_count": 275,
   "id": "a78f5ca3",
   "metadata": {
    "scrolled": false
   },
   "outputs": [
    {
     "name": "stdout",
     "output_type": "stream",
     "text": [
      "tensor([[[0.0007, 0.0000],\n",
      "         [0.0000, 0.0125]],\n",
      "\n",
      "        [[0.0503, 0.0000],\n",
      "         [0.0000, 0.0285]],\n",
      "\n",
      "        [[0.0009, 0.0000],\n",
      "         [0.0000, 0.0112]],\n",
      "\n",
      "        [[0.0028, 0.0000],\n",
      "         [0.0000, 0.0098]],\n",
      "\n",
      "        [[0.0064, 0.0000],\n",
      "         [0.0000, 0.0060]],\n",
      "\n",
      "        [[0.0084, 0.0000],\n",
      "         [0.0000, 0.0037]],\n",
      "\n",
      "        [[0.0193, 0.0000],\n",
      "         [0.0000, 0.0167]],\n",
      "\n",
      "        [[0.0006, 0.0000],\n",
      "         [0.0000, 0.0116]],\n",
      "\n",
      "        [[0.0078, 0.0000],\n",
      "         [0.0000, 0.0049]],\n",
      "\n",
      "        [[0.0116, 0.0000],\n",
      "         [0.0000, 0.0003]]])\n",
      "tensor([[[0.0075, 0.0000],\n",
      "         [0.0000, 0.1380]],\n",
      "\n",
      "        [[0.0004, 0.0000],\n",
      "         [0.0000, 0.0010]],\n",
      "\n",
      "        [[0.0094, 0.0000],\n",
      "         [0.0000, 0.1229]],\n",
      "\n",
      "        [[0.0307, 0.0000],\n",
      "         [0.0000, 0.1074]],\n",
      "\n",
      "        [[0.0702, 0.0000],\n",
      "         [0.0000, 0.0659]],\n",
      "\n",
      "        [[0.0928, 0.0000],\n",
      "         [0.0000, 0.0409]],\n",
      "\n",
      "        [[0.2125, 0.0000],\n",
      "         [0.0000, 0.1839]],\n",
      "\n",
      "        [[0.0070, 0.0000],\n",
      "         [0.0000, 0.1276]],\n",
      "\n",
      "        [[0.0009, 0.0000],\n",
      "         [0.0000, 0.0004]],\n",
      "\n",
      "        [[0.1271, 0.0000],\n",
      "         [0.0000, 0.0029]]])\n"
     ]
    }
   ],
   "source": [
    "# %%timeit\n",
    "# torch.manual_seed(9)\n",
    "torch.manual_seed(12)\n",
    "\n",
    "n_images = 4\n",
    "\n",
    "# Source position\n",
    "bxy = torch.tensor([thx0_src, thy0_src], device=device)\n",
    "\n",
    "\n",
    "def get_beta_hat(thx, thy):\n",
    "    return torch.stack(lens.raytrace(thx, thy, z_l, z_s, cosmology, *x_lens))\n",
    "\n",
    "\n",
    "# Optimize with random guesses\n",
    "n_guesses = 10\n",
    "# while True:\n",
    "thxy_0s = thxys = fov * (torch.rand(n_guesses, 2) - 0.5)\n",
    "thxys = minimize_levmarq_new(\n",
    "    thxys,\n",
    "    bxy.repeat(len(thxys), 1),\n",
    "    get_beta_hat,\n",
    "    eps_metric=0.0,\n",
    "    lam=1e-2,\n",
    "    max_iters=2,\n",
    ")\n",
    "\n",
    "# # If the batch contains one point that optimizes poorly, the whole batch\n",
    "# # can fail. If that happens, rerun with new guesses until it doesn't.\n",
    "# if (thxys != thxy_0s).any():\n",
    "#     break\n",
    "\n",
    "# # Pare down to number of images\n",
    "# thxys = get_cluster_means(thxys, n_images)\n",
    "\n",
    "# # Run final optimization\n",
    "# thxys = minimize_levmarq(\n",
    "#     thxys, bxy.repeat(len(thxys), 1), get_beta_hat, max_iters=5\n",
    "# )\n",
    "\n",
    "\n",
    "\n",
    "# plt.figure(figsize=(10, 10))\n",
    "# plt.imshow(\n",
    "#     mu,\n",
    "#     cmap=\"RdBu_r\",\n",
    "#     origin=\"lower\",\n",
    "#     extent=extent,\n",
    "#     norm=CenteredNorm(halfrange=4)\n",
    "# )\n",
    "# plt.colorbar(fraction=0.046, pad=0.04)\n",
    "\n",
    "# for thxy in thxy_0s:\n",
    "#     plt.scatter(*thxy, marker=\"x\", c=\"C1\", lw=2)\n",
    "\n",
    "# for thxy in thxys:\n",
    "#     plt.scatter(*thxy, marker=\"o\", fc=\"none\", ec=\"C0\", lw=2)\n",
    "\n",
    "# plt.title(\"Orange 'x': initial positions; blue 'o': fit positions\")"
   ]
  },
  {
   "cell_type": "code",
   "execution_count": null,
   "id": "eb082aba",
   "metadata": {},
   "outputs": [],
   "source": []
  },
  {
   "cell_type": "code",
   "execution_count": 6,
   "id": "4ccda469",
   "metadata": {},
   "outputs": [
    {
     "ename": "NameError",
     "evalue": "name 'x_lens' is not defined",
     "output_type": "error",
     "traceback": [
      "\u001b[0;31m---------------------------------------------------------------------------\u001b[0m",
      "\u001b[0;31mNameError\u001b[0m                                 Traceback (most recent call last)",
      "Input \u001b[0;32mIn [6]\u001b[0m, in \u001b[0;36m<cell line: 1>\u001b[0;34m()\u001b[0m\n\u001b[0;32m----> 1\u001b[0m \u001b[43mget_ipython\u001b[49m\u001b[43m(\u001b[49m\u001b[43m)\u001b[49m\u001b[38;5;241;43m.\u001b[39;49m\u001b[43mrun_line_magic\u001b[49m\u001b[43m(\u001b[49m\u001b[38;5;124;43m'\u001b[39;49m\u001b[38;5;124;43mtimeit\u001b[39;49m\u001b[38;5;124;43m'\u001b[39;49m\u001b[43m,\u001b[49m\u001b[43m \u001b[49m\u001b[38;5;124;43m'\u001b[39;49m\u001b[38;5;124;43msimulate(x_lens, x_src)\u001b[39;49m\u001b[38;5;124;43m'\u001b[39;49m\u001b[43m)\u001b[49m\n",
      "File \u001b[0;32m~/.pyenv/versions/3.10.3/envs/lens-3.10.3/lib/python3.10/site-packages/IPython/core/interactiveshell.py:2285\u001b[0m, in \u001b[0;36mInteractiveShell.run_line_magic\u001b[0;34m(self, magic_name, line, _stack_depth)\u001b[0m\n\u001b[1;32m   2283\u001b[0m     kwargs[\u001b[38;5;124m'\u001b[39m\u001b[38;5;124mlocal_ns\u001b[39m\u001b[38;5;124m'\u001b[39m] \u001b[38;5;241m=\u001b[39m \u001b[38;5;28mself\u001b[39m\u001b[38;5;241m.\u001b[39mget_local_scope(stack_depth)\n\u001b[1;32m   2284\u001b[0m \u001b[38;5;28;01mwith\u001b[39;00m \u001b[38;5;28mself\u001b[39m\u001b[38;5;241m.\u001b[39mbuiltin_trap:\n\u001b[0;32m-> 2285\u001b[0m     result \u001b[38;5;241m=\u001b[39m \u001b[43mfn\u001b[49m\u001b[43m(\u001b[49m\u001b[38;5;241;43m*\u001b[39;49m\u001b[43margs\u001b[49m\u001b[43m,\u001b[49m\u001b[43m \u001b[49m\u001b[38;5;241;43m*\u001b[39;49m\u001b[38;5;241;43m*\u001b[39;49m\u001b[43mkwargs\u001b[49m\u001b[43m)\u001b[49m\n\u001b[1;32m   2286\u001b[0m \u001b[38;5;28;01mreturn\u001b[39;00m result\n",
      "File \u001b[0;32m~/.pyenv/versions/3.10.3/envs/lens-3.10.3/lib/python3.10/site-packages/IPython/core/magics/execution.py:1162\u001b[0m, in \u001b[0;36mExecutionMagics.timeit\u001b[0;34m(self, line, cell, local_ns)\u001b[0m\n\u001b[1;32m   1160\u001b[0m \u001b[38;5;28;01mfor\u001b[39;00m index \u001b[38;5;129;01min\u001b[39;00m \u001b[38;5;28mrange\u001b[39m(\u001b[38;5;241m0\u001b[39m, \u001b[38;5;241m10\u001b[39m):\n\u001b[1;32m   1161\u001b[0m     number \u001b[38;5;241m=\u001b[39m \u001b[38;5;241m10\u001b[39m \u001b[38;5;241m*\u001b[39m\u001b[38;5;241m*\u001b[39m index\n\u001b[0;32m-> 1162\u001b[0m     time_number \u001b[38;5;241m=\u001b[39m \u001b[43mtimer\u001b[49m\u001b[38;5;241;43m.\u001b[39;49m\u001b[43mtimeit\u001b[49m\u001b[43m(\u001b[49m\u001b[43mnumber\u001b[49m\u001b[43m)\u001b[49m\n\u001b[1;32m   1163\u001b[0m     \u001b[38;5;28;01mif\u001b[39;00m time_number \u001b[38;5;241m>\u001b[39m\u001b[38;5;241m=\u001b[39m \u001b[38;5;241m0.2\u001b[39m:\n\u001b[1;32m   1164\u001b[0m         \u001b[38;5;28;01mbreak\u001b[39;00m\n",
      "File \u001b[0;32m~/.pyenv/versions/3.10.3/envs/lens-3.10.3/lib/python3.10/site-packages/IPython/core/magics/execution.py:156\u001b[0m, in \u001b[0;36mTimer.timeit\u001b[0;34m(self, number)\u001b[0m\n\u001b[1;32m    154\u001b[0m gc\u001b[38;5;241m.\u001b[39mdisable()\n\u001b[1;32m    155\u001b[0m \u001b[38;5;28;01mtry\u001b[39;00m:\n\u001b[0;32m--> 156\u001b[0m     timing \u001b[38;5;241m=\u001b[39m \u001b[38;5;28;43mself\u001b[39;49m\u001b[38;5;241;43m.\u001b[39;49m\u001b[43minner\u001b[49m\u001b[43m(\u001b[49m\u001b[43mit\u001b[49m\u001b[43m,\u001b[49m\u001b[43m \u001b[49m\u001b[38;5;28;43mself\u001b[39;49m\u001b[38;5;241;43m.\u001b[39;49m\u001b[43mtimer\u001b[49m\u001b[43m)\u001b[49m\n\u001b[1;32m    157\u001b[0m \u001b[38;5;28;01mfinally\u001b[39;00m:\n\u001b[1;32m    158\u001b[0m     \u001b[38;5;28;01mif\u001b[39;00m gcold:\n",
      "File \u001b[0;32m<magic-timeit>:1\u001b[0m, in \u001b[0;36minner\u001b[0;34m(_it, _timer)\u001b[0m\n",
      "\u001b[0;31mNameError\u001b[0m: name 'x_lens' is not defined"
     ]
    }
   ],
   "source": [
    "%timeit simulate(x_lens, x_src)"
   ]
  },
  {
   "cell_type": "code",
   "execution_count": null,
   "id": "f4d730fc",
   "metadata": {},
   "outputs": [],
   "source": []
  },
  {
   "cell_type": "code",
   "execution_count": null,
   "id": "108e37b9",
   "metadata": {},
   "outputs": [],
   "source": []
  },
  {
   "cell_type": "code",
   "execution_count": null,
   "id": "5a3dfcee",
   "metadata": {},
   "outputs": [],
   "source": []
  },
  {
   "cell_type": "code",
   "execution_count": null,
   "id": "0aaaa1c5",
   "metadata": {},
   "outputs": [],
   "source": []
  },
  {
   "cell_type": "code",
   "execution_count": 21,
   "id": "77def25d",
   "metadata": {},
   "outputs": [],
   "source": [
    "fov = 5.0\n",
    "n_pix = 10\n",
    "res = fov / n_pix\n",
    "upsample_factor = 10\n",
    "_thx_fine, _thy_fine = get_meshgrid(\n",
    "    res / upsample_factor, upsample_factor * n_pix, upsample_factor * n_pix, device\n",
    ")\n",
    "thx, thy = get_meshgrid(res, n_pix, n_pix, device)\n",
    "\n",
    "extent = (-fov / 2, fov / 2, -fov / 2, fov / 2)"
   ]
  },
  {
   "cell_type": "code",
   "execution_count": 22,
   "id": "dc5720a5",
   "metadata": {},
   "outputs": [
    {
     "data": {
      "text/plain": [
       "<matplotlib.colorbar.Colorbar at 0x2d6c8d0c0>"
      ]
     },
     "execution_count": 22,
     "metadata": {},
     "output_type": "execute_result"
    },
    {
     "data": {
      "image/png": "[encoded data removed]",
      "text/plain": [
       "<Figure size 720x720 with 2 Axes>"
      ]
     },
     "metadata": {
      "needs_background": "light"
     },
     "output_type": "display_data"
    }
   ],
   "source": [
    "mu = simulate(x_lens, x_src)\n",
    "\n",
    "plt.figure(figsize=(10, 10))\n",
    "plt.imshow(\n",
    "    mu,\n",
    "    cmap=\"RdBu_r\",\n",
    "    origin=\"lower\",\n",
    "    extent=extent,\n",
    "    norm=CenteredNorm()\n",
    ")\n",
    "plt.colorbar()"
   ]
  },
  {
   "cell_type": "code",
   "execution_count": null,
   "id": "79f93555",
   "metadata": {},
   "outputs": [],
   "source": []
  },
  {
   "cell_type": "markdown",
   "id": "3812d43f",
   "metadata": {
    "heading_collapsed": true
   },
   "source": [
    "## Old/scratch"
   ]
  },
  {
   "cell_type": "code",
   "execution_count": 64,
   "id": "7368dee9",
   "metadata": {
    "hidden": true
   },
   "outputs": [
    {
     "data": {
      "text/plain": [
       "<matplotlib.colorbar.Colorbar at 0x2a01ae380>"
      ]
     },
     "execution_count": 64,
     "metadata": {},
     "output_type": "execute_result"
    },
    {
     "data": {
      "image/png": "[encoded data removed]",
      "text/plain": [
       "<Figure size 432x288 with 2 Axes>"
      ]
     },
     "metadata": {
      "needs_background": "light"
     },
     "output_type": "display_data"
    }
   ],
   "source": [
    "# EPL args: thx0, thy0, q, phi, b, t\n",
    "x_lens = torch.tensor([0.0, 0.0, 0.8, pi / 6, 1.5, 1.1], device=device)\n",
    "# Sersic args: thx0, thy0, q, phi, index, th_e, I_e\n",
    "x_src = torch.tensor([0.03, 0.04, 0.6, pi / 4, 4.0, 0.01, 1.0], device=device)\n",
    "\n",
    "# Simulate!\n",
    "mu = simulate(x_lens, x_src)\n",
    "\n",
    "# Plot\n",
    "plt.imshow(\n",
    "    mu,\n",
    "    cmap=\"RdBu_r\",\n",
    "    vmin=-mu.abs().max(),\n",
    "    vmax=mu.abs().max(),\n",
    "    origin=\"lower\",\n",
    "    extent=extent,\n",
    ")\n",
    "plt.colorbar()"
   ]
  },
  {
   "cell_type": "code",
   "execution_count": 20,
   "id": "8c1d533f",
   "metadata": {
    "hidden": true
   },
   "outputs": [],
   "source": [
    "def fn(x):\n",
    "    y = torch.ones_like(x)\n",
    "    idxs = x > 0\n",
    "    y[idxs] = 10.0\n",
    "    return y"
   ]
  },
  {
   "cell_type": "code",
   "execution_count": 23,
   "id": "8850bd64",
   "metadata": {
    "hidden": true
   },
   "outputs": [
    {
     "data": {
      "text/plain": [
       "tensor([1.5000, 1.5000, 2.0000, 3.0000])"
      ]
     },
     "execution_count": 23,
     "metadata": {},
     "output_type": "execute_result"
    }
   ],
   "source": [
    "torch.maximum(torch.tensor([0., 1, 2, 3]), torch.tensor(1.5))"
   ]
  },
  {
   "cell_type": "code",
   "execution_count": null,
   "id": "7e604bca",
   "metadata": {
    "hidden": true
   },
   "outputs": [],
   "source": []
  },
  {
   "cell_type": "code",
   "execution_count": null,
   "id": "78aa6095",
   "metadata": {
    "hidden": true
   },
   "outputs": [],
   "source": []
  },
  {
   "cell_type": "code",
   "execution_count": null,
   "id": "5daa5464",
   "metadata": {
    "hidden": true
   },
   "outputs": [],
   "source": []
  },
  {
   "cell_type": "code",
   "execution_count": 312,
   "id": "8d1f1426",
   "metadata": {
    "code_folding": [],
    "hidden": true
   },
   "outputs": [],
   "source": [
    "def minimize_levmarq(\n",
    "    x,\n",
    "    y,\n",
    "    get_y_hat,\n",
    "    eps_metric=0.1,\n",
    "    lam=1e-2,\n",
    "    eps_grad=None,\n",
    "    eps_x=None,\n",
    "    eps_reduced_chi2=None,\n",
    "    lam_decrease_factor=9.0,\n",
    "    lam_increase_factor=11.0,\n",
    "    max_iters=10,\n",
    "    small_number=0.0,\n",
    "    lam_min=1e-7,\n",
    "    lam_max=1e7,\n",
    "):\n",
    "    \"\"\"\n",
    "    Args:\n",
    "        x: initial parameters.\n",
    "        y: target data.\n",
    "        get_y_hat: function taking components of `x` as arguments and returning a\n",
    "            prediction of `y`.\n",
    "\n",
    "    Notes:\n",
    "        - Switch to jacfwd\n",
    "        - Should be able to get value and Jacobian simultaneously\n",
    "    \"\"\"\n",
    "    m = len(y)\n",
    "    n = len(x)\n",
    "    if m - n + 1 <= 0:\n",
    "        raise ValueError(\n",
    "            \"number of data points must be at least the number of parameters minus 1\"\n",
    "        )\n",
    "\n",
    "    argnums = tuple(range(n))\n",
    "    hess_perturbation = small_number * torch.eye(n, device=x.device)\n",
    "    chi2_prev = ((y - get_y_hat(*x)) ** 2).sum()\n",
    "\n",
    "    for _ in range(max_iters):\n",
    "        # Reduced chi^2 convergence check\n",
    "        if eps_reduced_chi2 is not None and chi2 / (m - n + 1) < eps_reduced_chi2:\n",
    "            break\n",
    "\n",
    "        J = torch.stack(functorch.jacrev(get_y_hat, argnums)(*x))\n",
    "        y_hat = get_y_hat(*x)\n",
    "        dy = y - y_hat\n",
    "        JT_dy = J.t() @ dy\n",
    "\n",
    "        # Gradient convergence check\n",
    "        if eps_grad is not None and JT_dy.max() < eps_grad:\n",
    "            break\n",
    "\n",
    "        # Propose an update\n",
    "        JTJ = J.t() @ J\n",
    "        hess_approx = (\n",
    "            lam * torch.diag_embed(torch.diagonal(JTJ, dim1=-2, dim2=-1))\n",
    "            + hess_perturbation\n",
    "        )\n",
    "        dx = torch.linalg.inv(JTJ + hess_approx) @ JT_dy\n",
    "\n",
    "        # Parameter convergence check\n",
    "        if eps_x is not None and (dx / (x + small_number)).abs().max() < eps_x:\n",
    "            break\n",
    "\n",
    "        x_new = x + dx\n",
    "        chi2 = ((y - get_y_hat(*x_new)) ** 2).sum()\n",
    "        # Decide whether to accept update\n",
    "        metric = (chi2_prev - chi2) / (dx @ JT_dy + dx @ hess_approx @ dx).abs()\n",
    "        if metric > eps_metric:\n",
    "            x = x_new\n",
    "            chi2_prev = chi2\n",
    "            lam = max(lam / lam_decrease_factor, lam_min)\n",
    "        else:\n",
    "            lam = min(lam * lam_increase_factor, lam_max)\n",
    "\n",
    "    return x"
   ]
  },
  {
   "cell_type": "code",
   "execution_count": 313,
   "id": "5aaf6273",
   "metadata": {
    "hidden": true
   },
   "outputs": [
    {
     "data": {
      "text/plain": [
       "tensor([-0.5599,  1.6486])"
      ]
     },
     "execution_count": 313,
     "metadata": {},
     "output_type": "execute_result"
    }
   ],
   "source": [
    "# Initial guess for image position\n",
    "thx = torch.tensor(-0.7, device=device)\n",
    "thy = torch.tensor(1.7, device=device)\n",
    "thxy = torch.stack((thx, thy))\n",
    "\n",
    "# Source position\n",
    "bx = torch.tensor(0.03, device=device)\n",
    "by = torch.tensor(0.04, device=device)\n",
    "bxy = torch.stack((bx, by))\n",
    "\n",
    "def get_beta_hat(thx, thy):\n",
    "    return torch.stack(lens.raytrace(thx, thy, z_l, z_s, cosmology, *x_lens))\n",
    "\n",
    "minimize_levmarq(thxy, bxy, get_beta_hat)"
   ]
  },
  {
   "cell_type": "code",
   "execution_count": null,
   "id": "f7562449",
   "metadata": {
    "hidden": true
   },
   "outputs": [],
   "source": []
  },
  {
   "cell_type": "code",
   "execution_count": 359,
   "id": "704a5c1c",
   "metadata": {
    "hidden": true
   },
   "outputs": [],
   "source": [
    "# from icecream import ic\n",
    "\n",
    "\n",
    "# def minimize_levmarq(\n",
    "#     x,\n",
    "#     y,\n",
    "#     get_y_hat,\n",
    "#     eps_metric=0.1,\n",
    "#     lam=1e-2,\n",
    "#     eps_grad=None,\n",
    "#     eps_x=None,\n",
    "#     eps_reduced_chi2=None,\n",
    "#     lam_decrease_factor=9.0,\n",
    "#     lam_increase_factor=11.0,\n",
    "#     max_iters=10,\n",
    "#     small_number=0.0,\n",
    "#     lam_min=1e-7,\n",
    "#     lam_max=1e7,\n",
    "# ):\n",
    "#     \"\"\"\n",
    "#     Levenberg-Marquardt minimizer, based on implementation 1 from `these notes <https://people.duke.edu/~hpgavin/ExperimentalSystems/lm.pdf>`_.\n",
    "    \n",
    "#     This minimizes :math:`|\\\\mathbf{y} - \\\\mathbf{\\\\hat{y}}(\\\\mathbf{x})|^2`, and is\n",
    "#     batched over parameters `x` and datapoints `y`.\n",
    "\n",
    "#     Args:\n",
    "#         x: batch of initial parameters.\n",
    "#         y: corresponding batch of target data.\n",
    "#         get_y_hat: function taking components of `x` as arguments and returning a\n",
    "#             prediction of `y`. Must be `vmap`able.\n",
    "#         eps_metric: tolerance for deciding when to decrease :math:`\\\\lambda`.\n",
    "#         lam: damping parameter :math:`\\\\lambda`.\n",
    "#         eps_grad: gradient convergence threshold. If `None`, doesn't check this\n",
    "#             convergence metric.\n",
    "#         eps_x: parameter convergence threshold. If `None`, doesn't check this\n",
    "#             convergence metric.\n",
    "#         eps_reduced_chi2: reduced :math:`\\\\chi^2` convergence threshold. If `None`,\n",
    "#             doesn't check this convergence metric.\n",
    "#         lam_decrease_factor: factor by which to decrease :math:`\\\\lambda` after accepting\n",
    "#             an update.\n",
    "#         lam_increase_factor: factor by which to increase :math:`\\\\lambda` after rejecting\n",
    "#             an update.\n",
    "#         max_iters: maximum number of iterations.\n",
    "#         small_number: this is added to the diagonal of the approximate Hessian and the\n",
    "#             parameter values to avoid inverting a singular matrix or dividing by zero.\n",
    "#         lam_min: minimum value permitted for :math:`\\\\lambda`.\n",
    "#         lam_max: maximum value permitted for :math:`\\\\lambda`.\n",
    "\n",
    "#     Notes:\n",
    "#         - Switch to jacfwd\n",
    "#         - Should be able to get value and Jacobian simultaneously\n",
    "#     \"\"\"\n",
    "#     if len(x) != len(y):\n",
    "#         raise ValueError(\"x and y must having matching batch dimension\")\n",
    "\n",
    "#     b, n = x.shape\n",
    "#     m = y.shape[1]\n",
    "#     if m - n + 1 <= 0:\n",
    "#         raise ValueError(\n",
    "#             \"number of data points per batch must be at least the number of parameters \"\n",
    "#             \"minus 1\"\n",
    "#         )\n",
    "\n",
    "#     # Make vmapd functions\n",
    "#     argnums = tuple(range(n))\n",
    "#     get_y_hat_v = functorch.vmap(lambda x: get_y_hat(*x))\n",
    "#     get_jac = functorch.vmap(lambda x: functorch.jacrev(get_y_hat, argnums)(*x))\n",
    "\n",
    "#     hess_perturbation = small_number * torch.eye(n, device=x.device).repeat(b, 1, 1)\n",
    "#     chi2_prev = ((y - get_y_hat_v(x)) ** 2).sum(-1)\n",
    "\n",
    "#     for _ in range(max_iters):\n",
    "#         # Reduced chi^2 convergence check\n",
    "#         if eps_reduced_chi2 is not None and chi2.max() / (m - n + 1) < eps_reduced_chi2:\n",
    "#             break\n",
    "\n",
    "#         J = torch.stack(get_jac(x), -1)\n",
    "#         y_hat = get_y_hat_v(x)\n",
    "#         dy = (y - y_hat)[:, :, None]\n",
    "#         JT_dy = J.transpose(-2, -1) @ dy  # [:, :, 0]\n",
    "\n",
    "#         # Gradient convergence check\n",
    "#         if eps_grad is not None and JT_dy.max() < eps_grad:\n",
    "#             break\n",
    "\n",
    "#         # Propose an update\n",
    "#         JTJ = J.transpose(-2, -1) @ J\n",
    "#         hess_approx = (\n",
    "#             lam * torch.diag_embed(torch.diagonal(JTJ, dim1=-2, dim2=-1))\n",
    "#             + hess_perturbation\n",
    "#         )\n",
    "#         dx = torch.linalg.inv(JTJ + hess_approx) @ JT_dy\n",
    "\n",
    "#         # Parameter convergence check\n",
    "#         if eps_x is not None and (dx / (x + small_number)).abs().max() < eps_x:\n",
    "#             break\n",
    "\n",
    "#         x_new = x + dx[:, :, 0]\n",
    "#         chi2 = ((y - get_y_hat_v(x_new)) ** 2).sum()\n",
    "#         # Decide whether to accept update\n",
    "#         metric = (chi2_prev - chi2) / (\n",
    "#             (dx * JT_dy).sum(-2)[:, 0] + (dx * (hess_approx @ dx)).sum(-2)[:, 0]\n",
    "#         ).abs()\n",
    "#         if metric.max() > eps_metric:\n",
    "#             x = x_new\n",
    "#             chi2_prev = chi2\n",
    "#             lam = max(lam / lam_decrease_factor, lam_min)\n",
    "#         else:\n",
    "#             lam = min(lam * lam_increase_factor, lam_max)\n",
    "\n",
    "#     return x"
   ]
  },
  {
   "cell_type": "code",
   "execution_count": null,
   "id": "0c06aa7a",
   "metadata": {
    "hidden": true
   },
   "outputs": [],
   "source": []
  },
  {
   "cell_type": "markdown",
   "id": "34f07376",
   "metadata": {
    "hidden": true
   },
   "source": []
  }
 ],
 "metadata": {
  "kernelspec": {
   "display_name": "Python 3 (ipykernel)",
   "language": "python",
   "name": "python3"
  },
  "language_info": {
   "codemirror_mode": {
    "name": "ipython",
    "version": 3
   },
   "file_extension": ".py",
   "mimetype": "text/x-python",
   "name": "python",
   "nbconvert_exporter": "python",
   "pygments_lexer": "ipython3",
   "version": "3.10.3"
  }
 },
 "nbformat": 4,
 "nbformat_minor": 5
}
