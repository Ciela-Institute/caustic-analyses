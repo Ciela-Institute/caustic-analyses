{
 "cells": [
  {
   "cell_type": "markdown",
   "id": "d9c67900",
   "metadata": {
    "heading_collapsed": true
   },
   "source": [
    "### `Param`\n",
    "\n",
    "Represents a static or dynamic parameter. Must have a name and a shape. If it has a value, can call `to()`.\n",
    "\n",
    "### `Parametrized`\n",
    "\n",
    "Given a `dict` with `Parametrized` objects' names as keys and their dynamic `Param`s as the values (either in the form of an args list, kwargs dict or flattened tensor), can unpack its values.\n",
    "\n",
    "Given an args list or flattened tensor, knows how to pack "
   ]
  },
  {
   "cell_type": "code",
   "execution_count": null,
   "id": "9fa0e501",
   "metadata": {
    "hidden": true
   },
   "outputs": [],
   "source": [
    "%load_ext autoreload\n",
    "%autoreload 2"
   ]
  },
  {
   "cell_type": "code",
   "execution_count": null,
   "id": "eca1e3b7",
   "metadata": {
    "hidden": true
   },
   "outputs": [],
   "source": [
    "from functorch import vmap\n",
    "import pytest\n",
    "import torch\n",
    "\n",
    "from caustic.param import Param\n",
    "from caustic.parametrized import Parametrized"
   ]
  },
  {
   "cell_type": "code",
   "execution_count": 3,
   "id": "0c3c0f6f",
   "metadata": {
    "hidden": true
   },
   "outputs": [],
   "source": [
    "class C1(Parametrized):\n",
    "    def __init__(self, name, p=None):\n",
    "        super().__init__(name)\n",
    "        self.add_param(\"p\", p)\n",
    "\n",
    "    def __call__(self, x):\n",
    "        (p,) = self.unpack(x)\n",
    "        print(f\"[{self.name}] p is {p}\")"
   ]
  },
  {
   "cell_type": "code",
   "execution_count": 4,
   "id": "5bc2d7c2",
   "metadata": {
    "hidden": true
   },
   "outputs": [
    {
     "name": "stdout",
     "output_type": "stream",
     "text": [
      "C1(\n",
      "    name='c1',\n",
      "    static=[],\n",
      "    dynamic=[p]\n",
      ")\n",
      "\n",
      "C1(\n",
      "    name='c1',\n",
      "    static=[p],\n",
      "    dynamic=[]\n",
      ")\n",
      "\n"
     ]
    }
   ],
   "source": [
    "with pytest.raises(ValueError):\n",
    "    c1 = C1(1.0)\n",
    "\n",
    "with pytest.raises(AttributeError):\n",
    "    c1 = C1(\"c1\", 1.0)\n",
    "\n",
    "c1 = C1(\"c1\")\n",
    "print(c1)\n",
    "print()\n",
    "\n",
    "c1 = C1(\"c1\", torch.tensor(0.0))\n",
    "print(c1)\n",
    "print()"
   ]
  },
  {
   "cell_type": "code",
   "execution_count": 5,
   "id": "d065f7d1",
   "metadata": {
    "hidden": true
   },
   "outputs": [],
   "source": [
    "class C2(Parametrized):\n",
    "    def __init__(self, name, d1, d2, p=None):\n",
    "        super().__init__(name)\n",
    "        self.d1 = d1\n",
    "        self.d2 = d2\n",
    "        self.add_param(\"p\", p)\n",
    "\n",
    "    def __call__(self, x):\n",
    "        (p,) = self.unpack(x)\n",
    "        print(f\"[{self.name}] p is {p}\")\n",
    "        self.d1(x)\n",
    "        self.d1(x)"
   ]
  },
  {
   "cell_type": "code",
   "execution_count": 6,
   "id": "cac00335",
   "metadata": {
    "hidden": true
   },
   "outputs": [
    {
     "name": "stdout",
     "output_type": "stream",
     "text": [
      "C1(\n",
      "    name='c1',\n",
      "    static=[p],\n",
      "    dynamic=[]\n",
      ")\n",
      "\n"
     ]
    }
   ],
   "source": [
    "c1a = c1b = C1(\"c1\", torch.tensor(1.0))\n",
    "c2 = C2(\"c2\", c1a, c1b)\n",
    "assert c2.d1 is c2.d2\n",
    "print(c1)\n",
    "print()"
   ]
  },
  {
   "cell_type": "code",
   "execution_count": 7,
   "id": "f7940757",
   "metadata": {
    "hidden": true
   },
   "outputs": [
    {
     "name": "stdout",
     "output_type": "stream",
     "text": [
      "C2(\n",
      "    name='c2',\n",
      "    static=[],\n",
      "    dynamic=[p; ('c1': ['p'])]\n",
      ")\n",
      "\n",
      "C2(\n",
      "    name='c2',\n",
      "    static=[],\n",
      "    dynamic=[p; ('c1a': ['p']), ('c1b': ['p'])]\n",
      ")\n",
      "\n",
      "C2(\n",
      "    name='c2',\n",
      "    static=[],\n",
      "    dynamic=[p; ('c1a': ['p']), ('c1b': ['p']), ('c1_shared': ['p'])]\n",
      ")\n",
      "\n"
     ]
    }
   ],
   "source": [
    "c1a = C1(\"c1\")\n",
    "c1b = C1(\"c1\")\n",
    "with pytest.raises(KeyError):\n",
    "    c2 = C2(\"c2\", c1a, c1b)\n",
    "\n",
    "c1a = c1b = C1(\"c1\")\n",
    "c2 = C2(\"c2\", c1a, c1b)\n",
    "assert c2.d1 is c2.d2\n",
    "print(c2)\n",
    "print()\n",
    "\n",
    "c1a = C1(\"c1a\")\n",
    "c1b = C1(\"c1b\")\n",
    "c2 = C2(\"c2\", c1a, c1b)\n",
    "print(c2)\n",
    "print()\n",
    "\n",
    "# Repeatedly adding the same component should work fine\n",
    "c = C1(\"c1_shared\")\n",
    "c2.c = c\n",
    "c2.d1.c = c\n",
    "c2.d2.c = c\n",
    "c2.c = c\n",
    "print(c2)\n",
    "print()"
   ]
  },
  {
   "cell_type": "code",
   "execution_count": 8,
   "id": "59f7b127",
   "metadata": {
    "hidden": true
   },
   "outputs": [
    {
     "name": "stdout",
     "output_type": "stream",
     "text": [
      "{'c2': tensor([1.]), 'c1a': tensor([2.]), 'c1b': tensor([3.]), 'c1_shared': tensor([4.])}\n",
      "\n",
      "[c2] p is 1.0\n",
      "[c1a] p is 2.0\n",
      "[c1a] p is 2.0\n",
      "\n",
      "[c2] p is 1.0\n",
      "[c1a] p is 2.0\n",
      "[c1a] p is 2.0\n"
     ]
    }
   ],
   "source": [
    "x = torch.tensor([1.0, 2.0, 3.0, 4.0])\n",
    "print(c2.x_to_dict(x))\n",
    "print()\n",
    "\n",
    "c2(c2.x_to_dict(x))\n",
    "print()\n",
    "\n",
    "# Can pass kwargs, args or flattened tensor\n",
    "c2({\"c2\": {\"p\": 1.0}, \"c1a\": [2.0], \"c1b\": torch.tensor(3.0)})"
   ]
  },
  {
   "cell_type": "code",
   "execution_count": null,
   "id": "fdc9512e",
   "metadata": {
    "hidden": true
   },
   "outputs": [],
   "source": []
  },
  {
   "cell_type": "code",
   "execution_count": null,
   "id": "cb318393",
   "metadata": {
    "hidden": true
   },
   "outputs": [],
   "source": []
  },
  {
   "cell_type": "code",
   "execution_count": null,
   "id": "b6c8dce4",
   "metadata": {
    "hidden": true
   },
   "outputs": [],
   "source": []
  },
  {
   "cell_type": "code",
   "execution_count": null,
   "id": "bc5882d9",
   "metadata": {
    "hidden": true
   },
   "outputs": [],
   "source": []
  },
  {
   "cell_type": "code",
   "execution_count": null,
   "id": "c56eace4",
   "metadata": {
    "hidden": true
   },
   "outputs": [],
   "source": []
  },
  {
   "cell_type": "markdown",
   "id": "39cc9a6c",
   "metadata": {},
   "source": [
    "## Lensing"
   ]
  },
  {
   "cell_type": "markdown",
   "id": "97879251",
   "metadata": {},
   "source": [
    "This cell initializes some lensing model components, evaluates them and shows they still work fine with `vmap`."
   ]
  },
  {
   "cell_type": "code",
   "execution_count": 1,
   "id": "5bd6a3ea",
   "metadata": {},
   "outputs": [],
   "source": [
    "%load_ext autoreload\n",
    "%autoreload 2"
   ]
  },
  {
   "cell_type": "code",
   "execution_count": 2,
   "id": "8a52e2d9",
   "metadata": {},
   "outputs": [],
   "source": [
    "from math import pi\n",
    "\n",
    "from functorch import vmap\n",
    "import matplotlib.pyplot as plt\n",
    "import torch\n",
    "import torch.nn.functional as F\n",
    "\n",
    "from caustic.cosmology import FlatLambdaCDMCosmology, h0_default\n",
    "from caustic.lenses import SIE, Point\n",
    "from caustic.lenses import get_pix_magnification, get_pix_jacobian, get_magnification\n",
    "from caustic.parametrized import Parametrized\n",
    "from caustic.sources import Sersic\n",
    "from caustic.utils import get_meshgrid\n",
    "\n",
    "thx, thy = get_meshgrid(0.05, 100, 100)"
   ]
  },
  {
   "cell_type": "markdown",
   "id": "4181fb2b",
   "metadata": {},
   "source": [
    "Here's what a simple simulator looks like."
   ]
  },
  {
   "cell_type": "code",
   "execution_count": 3,
   "id": "8c14366e",
   "metadata": {},
   "outputs": [],
   "source": [
    "class Simulator(Parametrized):\n",
    "    def __init__(\n",
    "        self,\n",
    "        res,\n",
    "        n_pix,\n",
    "        lens,\n",
    "        src,\n",
    "        z_s=None,\n",
    "        upsample_factor=4,\n",
    "        name: str = \"sim\",\n",
    "    ):\n",
    "        super().__init__(name)\n",
    "        self.lens = lens\n",
    "        self.src = src\n",
    "        self.add_param(\"z_s\", z_s)\n",
    "        self.upsample_factor = upsample_factor\n",
    "\n",
    "        self._thx_fine, self._thy_fine = get_meshgrid(\n",
    "            res / upsample_factor, n_pix * upsample_factor, n_pix * upsample_factor\n",
    "        )\n",
    "        self.thx, self.thy = get_meshgrid(res, n_pix, n_pix)\n",
    "\n",
    "    def __call__(self, x):\n",
    "        x = self.x_to_dict(x)\n",
    "\n",
    "        z_s = self.unpack(x)\n",
    "\n",
    "        bx, by = self.lens.raytrace(self._thx_fine, self._thy_fine, z_s, x)\n",
    "        mu_fine = self.src.brightness(bx, by, x)\n",
    "        return F.avg_pool2d(mu_fine[None, None], self.upsample_factor)[0, 0]"
   ]
  },
  {
   "cell_type": "code",
   "execution_count": 4,
   "id": "5cb9163d",
   "metadata": {},
   "outputs": [
    {
     "name": "stdout",
     "output_type": "stream",
     "text": [
      "caught exception:  \"cannot add FlatLambdaCDMCosmology(name='cosmo', static=[rho_cr_0, Om0], dynamic=[h0], x keys=[('cosmo': ['h0'])]): a component with the name 'cosmo' already exists in the model DAG\" \n",
      "\n",
      "Simulator(\n",
      "    name='sim',\n",
      "    static=[z_s],\n",
      "    dynamic=[],\n",
      "    x keys=[('sie': ['z_l']), ('cosmo': ['h0']), ('src': ['thx0', 'thy0'])]\n",
      ") \n",
      "\n",
      "SIE(\n",
      "    name='sie',\n",
      "    static=[thx0, thy0, q, phi, b, s],\n",
      "    dynamic=[z_l],\n",
      "    x keys=[('sie': ['z_l']), ('cosmo': ['h0'])]\n",
      ") \n",
      "\n",
      "FlatLambdaCDMCosmology(\n",
      "    name='cosmo',\n",
      "    static=[rho_cr_0, Om0],\n",
      "    dynamic=[h0],\n",
      "    x keys=[('cosmo': ['h0'])]\n",
      ") \n",
      "\n",
      "Sersic(\n",
      "    name='src',\n",
      "    static=[q, phi, index, th_e, I_e, s],\n",
      "    dynamic=[thx0, thy0],\n",
      "    x keys=[('src': ['thx0', 'thy0'])]\n",
      ") \n",
      "\n",
      "testing x size error checking:\n",
      "caught exception:  0 flattened dynamic args were passed, but 4 are required \n",
      "\n",
      "running with valid argument vector\n",
      "\n",
      "vmap shape check: torch.Size([10, 50, 50])\n"
     ]
    },
    {
     "data": {
      "image/png": "[encoded data removed]",
      "text/plain": [
       "<Figure size 432x288 with 1 Axes>"
      ]
     },
     "metadata": {
      "needs_background": "light"
     },
     "output_type": "display_data"
    }
   ],
   "source": [
    "# Set up cosmology, marking H0 as dynamic\n",
    "cosmo = FlatLambdaCDMCosmology(\"cosmo\", h0=None)\n",
    "\n",
    "# Static SIE args: z_l, thx0, thy0, q, phi, b\n",
    "x_lens = torch.tensor([0.0, 0.0, 0.8, pi / 6, 1.5])\n",
    "try:\n",
    "    sie = SIE(\"cosmo\", cosmo, None, *x_lens)\n",
    "except KeyError as e:\n",
    "    print(\"caught exception: \", e, \"\\n\")\n",
    "\n",
    "sie = SIE(\"sie\", cosmo, None, *x_lens)\n",
    "\n",
    "# Static Sersic args: q, phi, index, th_e, I_e\n",
    "x_src = torch.tensor([0.6, pi / 4, 4.0, 2.5, 1.0])\n",
    "src = Sersic(\"src\", None, None, *x_src)\n",
    "\n",
    "sim = Simulator(0.1, 50, sie, src, torch.tensor(0.8))\n",
    "print(sim, \"\\n\")\n",
    "print(sie, \"\\n\")\n",
    "print(cosmo, \"\\n\")\n",
    "print(src, \"\\n\")\n",
    "\n",
    "print(\"testing x size error checking:\")\n",
    "x = torch.tensor([])\n",
    "try:\n",
    "    sim.x_to_dict(x)\n",
    "except ValueError as e:\n",
    "    print(\"caught exception: \", e, \"\\n\")\n",
    "\n",
    "print(\"running with valid argument vector\")\n",
    "x = torch.tensor([0.8, 0.7, 0.13, 0.04])\n",
    "plt.imshow(sim(x), origin=\"lower\", cmap=\"RdBu_r\")\n",
    "print()\n",
    "\n",
    "print(\"vmap shape check:\", vmap(sim)(x.repeat(10, 1)).shape)"
   ]
  },
  {
   "cell_type": "code",
   "execution_count": 5,
   "id": "1822846e",
   "metadata": {},
   "outputs": [
    {
     "data": {
      "image/svg+xml": [
       "<?xml version=\"1.0\" encoding=\"UTF-8\" standalone=\"no\"?>\n",
       "<!DOCTYPE svg PUBLIC \"-//W3C//DTD SVG 1.1//EN\"\n",
       " \"http://www.w3.org/Graphics/SVG/1.1/DTD/svg11.dtd\">\n",
       "<!-- Generated by graphviz version 7.1.0 (20230121.1956)\n",
       " -->\n",
       "<!-- Pages: 1 -->\n",
       "<svg width=\"319pt\" height=\"188pt\"\n",
       " viewBox=\"0.00 0.00 318.88 188.00\" xmlns=\"http://www.w3.org/2000/svg\" xmlns:xlink=\"http://www.w3.org/1999/xlink\">\n",
       "<g id=\"graph0\" class=\"graph\" transform=\"scale(1 1) rotate(0) translate(4 184)\">\n",
       "<polygon fill=\"white\" stroke=\"none\" points=\"-4,4 -4,-184 314.88,-184 314.88,4 -4,4\"/>\n",
       "<!-- sim -->\n",
       "<g id=\"node1\" class=\"node\">\n",
       "<title>sim</title>\n",
       "<ellipse fill=\"none\" stroke=\"black\" cx=\"203.54\" cy=\"-162\" rx=\"67.69\" ry=\"18\"/>\n",
       "<text text-anchor=\"middle\" x=\"203.54\" y=\"-158.3\" font-family=\"Times,serif\" font-size=\"14.00\">Simulator(&#39;sim&#39;)</text>\n",
       "</g>\n",
       "<!-- sie -->\n",
       "<g id=\"node2\" class=\"node\">\n",
       "<title>sie</title>\n",
       "<ellipse fill=\"none\" stroke=\"black\" cx=\"147.54\" cy=\"-90\" rx=\"42.49\" ry=\"18\"/>\n",
       "<text text-anchor=\"middle\" x=\"147.54\" y=\"-86.3\" font-family=\"Times,serif\" font-size=\"14.00\">SIE(&#39;sie&#39;)</text>\n",
       "</g>\n",
       "<!-- sim&#45;&gt;sie -->\n",
       "<g id=\"edge1\" class=\"edge\">\n",
       "<title>sim&#45;&gt;sie</title>\n",
       "<path fill=\"none\" stroke=\"black\" d=\"M189.98,-144.05C183.28,-135.68 175.06,-125.4 167.64,-116.13\"/>\n",
       "<polygon fill=\"black\" stroke=\"black\" points=\"170.51,-114.11 161.53,-108.49 165.04,-118.48 170.51,-114.11\"/>\n",
       "</g>\n",
       "<!-- src -->\n",
       "<g id=\"node4\" class=\"node\">\n",
       "<title>src</title>\n",
       "<ellipse fill=\"none\" stroke=\"black\" cx=\"259.54\" cy=\"-90\" rx=\"51.19\" ry=\"18\"/>\n",
       "<text text-anchor=\"middle\" x=\"259.54\" y=\"-86.3\" font-family=\"Times,serif\" font-size=\"14.00\">Sersic(&#39;src&#39;)</text>\n",
       "</g>\n",
       "<!-- sim&#45;&gt;src -->\n",
       "<g id=\"edge3\" class=\"edge\">\n",
       "<title>sim&#45;&gt;src</title>\n",
       "<path fill=\"none\" stroke=\"black\" d=\"M217.09,-144.05C223.7,-135.8 231.78,-125.7 239.11,-116.54\"/>\n",
       "<polygon fill=\"black\" stroke=\"black\" points=\"241.65,-118.97 245.16,-108.97 236.18,-114.59 241.65,-118.97\"/>\n",
       "</g>\n",
       "<!-- cosmo -->\n",
       "<g id=\"node3\" class=\"node\">\n",
       "<title>cosmo</title>\n",
       "<ellipse fill=\"none\" stroke=\"black\" cx=\"147.54\" cy=\"-18\" rx=\"147.57\" ry=\"18\"/>\n",
       "<text text-anchor=\"middle\" x=\"147.54\" y=\"-14.3\" font-family=\"Times,serif\" font-size=\"14.00\">FlatLambdaCDMCosmology(&#39;cosmo&#39;)</text>\n",
       "</g>\n",
       "<!-- sie&#45;&gt;cosmo -->\n",
       "<g id=\"edge2\" class=\"edge\">\n",
       "<title>sie&#45;&gt;cosmo</title>\n",
       "<path fill=\"none\" stroke=\"black\" d=\"M147.54,-71.7C147.54,-64.41 147.54,-55.73 147.54,-47.54\"/>\n",
       "<polygon fill=\"black\" stroke=\"black\" points=\"151.04,-47.62 147.54,-37.62 144.04,-47.62 151.04,-47.62\"/>\n",
       "</g>\n",
       "</g>\n",
       "</svg>\n"
      ],
      "text/plain": [
       "<graphviz.graphs.Digraph at 0x110112740>"
      ]
     },
     "execution_count": 5,
     "metadata": {},
     "output_type": "execute_result"
    }
   ],
   "source": [
    "sim.get_graph()"
   ]
  },
  {
   "cell_type": "code",
   "execution_count": 6,
   "id": "0b0515be",
   "metadata": {},
   "outputs": [],
   "source": [
    "sim.sie_2 = SIE(\"sie_2\", cosmo)\n",
    "src.child = cosmo.child = FlatLambdaCDMCosmology(\"dummy\")"
   ]
  },
  {
   "cell_type": "code",
   "execution_count": 7,
   "id": "a29da0b7",
   "metadata": {},
   "outputs": [
    {
     "data": {
      "image/svg+xml": [
       "<?xml version=\"1.0\" encoding=\"UTF-8\" standalone=\"no\"?>\n",
       "<!DOCTYPE svg PUBLIC \"-//W3C//DTD SVG 1.1//EN\"\n",
       " \"http://www.w3.org/Graphics/SVG/1.1/DTD/svg11.dtd\">\n",
       "<!-- Generated by graphviz version 7.1.0 (20230121.1956)\n",
       " -->\n",
       "<!-- Pages: 1 -->\n",
       "<svg width=\"424pt\" height=\"260pt\"\n",
       " viewBox=\"0.00 0.00 423.88 260.00\" xmlns=\"http://www.w3.org/2000/svg\" xmlns:xlink=\"http://www.w3.org/1999/xlink\">\n",
       "<g id=\"graph0\" class=\"graph\" transform=\"scale(1 1) rotate(0) translate(4 256)\">\n",
       "<polygon fill=\"white\" stroke=\"none\" points=\"-4,4 -4,-256 419.88,-256 419.88,4 -4,4\"/>\n",
       "<!-- sim -->\n",
       "<g id=\"node1\" class=\"node\">\n",
       "<title>sim</title>\n",
       "<ellipse fill=\"none\" stroke=\"black\" cx=\"259.54\" cy=\"-234\" rx=\"67.69\" ry=\"18\"/>\n",
       "<text text-anchor=\"middle\" x=\"259.54\" y=\"-230.3\" font-family=\"Times,serif\" font-size=\"14.00\">Simulator(&#39;sim&#39;)</text>\n",
       "</g>\n",
       "<!-- sie -->\n",
       "<g id=\"node2\" class=\"node\">\n",
       "<title>sie</title>\n",
       "<ellipse fill=\"none\" stroke=\"black\" cx=\"147.54\" cy=\"-162\" rx=\"42.49\" ry=\"18\"/>\n",
       "<text text-anchor=\"middle\" x=\"147.54\" y=\"-158.3\" font-family=\"Times,serif\" font-size=\"14.00\">SIE(&#39;sie&#39;)</text>\n",
       "</g>\n",
       "<!-- sim&#45;&gt;sie -->\n",
       "<g id=\"edge1\" class=\"edge\">\n",
       "<title>sim&#45;&gt;sie</title>\n",
       "<path fill=\"none\" stroke=\"black\" d=\"M233.84,-216.94C217.86,-206.95 197.17,-194.02 180.05,-183.32\"/>\n",
       "<polygon fill=\"black\" stroke=\"black\" points=\"182.07,-180.46 171.73,-178.12 178.36,-186.39 182.07,-180.46\"/>\n",
       "</g>\n",
       "<!-- sie_2 -->\n",
       "<g id=\"node4\" class=\"node\">\n",
       "<title>sie_2</title>\n",
       "<ellipse fill=\"none\" stroke=\"black\" cx=\"259.54\" cy=\"-162\" rx=\"51.19\" ry=\"18\"/>\n",
       "<text text-anchor=\"middle\" x=\"259.54\" y=\"-158.3\" font-family=\"Times,serif\" font-size=\"14.00\">SIE(&#39;sie_2&#39;)</text>\n",
       "</g>\n",
       "<!-- sim&#45;&gt;sie_2 -->\n",
       "<g id=\"edge5\" class=\"edge\">\n",
       "<title>sim&#45;&gt;sie_2</title>\n",
       "<path fill=\"none\" stroke=\"black\" d=\"M259.54,-215.7C259.54,-208.41 259.54,-199.73 259.54,-191.54\"/>\n",
       "<polygon fill=\"black\" stroke=\"black\" points=\"263.04,-191.62 259.54,-181.62 256.04,-191.62 263.04,-191.62\"/>\n",
       "</g>\n",
       "<!-- src -->\n",
       "<g id=\"node5\" class=\"node\">\n",
       "<title>src</title>\n",
       "<ellipse fill=\"none\" stroke=\"black\" cx=\"364.54\" cy=\"-90\" rx=\"51.19\" ry=\"18\"/>\n",
       "<text text-anchor=\"middle\" x=\"364.54\" y=\"-86.3\" font-family=\"Times,serif\" font-size=\"14.00\">Sersic(&#39;src&#39;)</text>\n",
       "</g>\n",
       "<!-- sim&#45;&gt;src -->\n",
       "<g id=\"edge4\" class=\"edge\">\n",
       "<title>sim&#45;&gt;src</title>\n",
       "<path fill=\"none\" stroke=\"black\" d=\"M281.96,-216.6C294.13,-206.91 308.83,-193.86 319.54,-180 334,-161.28 345.84,-137.19 353.74,-118.79\"/>\n",
       "<polygon fill=\"black\" stroke=\"black\" points=\"356.97,-120.15 357.56,-109.57 350.5,-117.47 356.97,-120.15\"/>\n",
       "</g>\n",
       "<!-- cosmo -->\n",
       "<g id=\"node3\" class=\"node\">\n",
       "<title>cosmo</title>\n",
       "<ellipse fill=\"none\" stroke=\"black\" cx=\"147.54\" cy=\"-90\" rx=\"147.57\" ry=\"18\"/>\n",
       "<text text-anchor=\"middle\" x=\"147.54\" y=\"-86.3\" font-family=\"Times,serif\" font-size=\"14.00\">FlatLambdaCDMCosmology(&#39;cosmo&#39;)</text>\n",
       "</g>\n",
       "<!-- sie&#45;&gt;cosmo -->\n",
       "<g id=\"edge2\" class=\"edge\">\n",
       "<title>sie&#45;&gt;cosmo</title>\n",
       "<path fill=\"none\" stroke=\"black\" d=\"M147.54,-143.7C147.54,-136.41 147.54,-127.73 147.54,-119.54\"/>\n",
       "<polygon fill=\"black\" stroke=\"black\" points=\"151.04,-119.62 147.54,-109.62 144.04,-119.62 151.04,-119.62\"/>\n",
       "</g>\n",
       "<!-- dummy -->\n",
       "<g id=\"node6\" class=\"node\">\n",
       "<title>dummy</title>\n",
       "<ellipse fill=\"none\" stroke=\"black\" cx=\"255.54\" cy=\"-18\" rx=\"151.37\" ry=\"18\"/>\n",
       "<text text-anchor=\"middle\" x=\"255.54\" y=\"-14.3\" font-family=\"Times,serif\" font-size=\"14.00\">FlatLambdaCDMCosmology(&#39;dummy&#39;)</text>\n",
       "</g>\n",
       "<!-- cosmo&#45;&gt;dummy -->\n",
       "<g id=\"edge7\" class=\"edge\">\n",
       "<title>cosmo&#45;&gt;dummy</title>\n",
       "<path fill=\"none\" stroke=\"black\" d=\"M173.96,-71.88C187.69,-62.98 204.67,-51.97 219.57,-42.31\"/>\n",
       "<polygon fill=\"black\" stroke=\"black\" points=\"221.26,-45.39 227.75,-37.01 217.45,-39.51 221.26,-45.39\"/>\n",
       "</g>\n",
       "<!-- sie_2&#45;&gt;cosmo -->\n",
       "<g id=\"edge3\" class=\"edge\">\n",
       "<title>sie_2&#45;&gt;cosmo</title>\n",
       "<path fill=\"none\" stroke=\"black\" d=\"M235.23,-145.81C220.39,-136.53 201.12,-124.49 184.42,-114.05\"/>\n",
       "<polygon fill=\"black\" stroke=\"black\" points=\"186.56,-111.26 176.22,-108.93 182.85,-117.2 186.56,-111.26\"/>\n",
       "</g>\n",
       "<!-- src&#45;&gt;dummy -->\n",
       "<g id=\"edge6\" class=\"edge\">\n",
       "<title>src&#45;&gt;dummy</title>\n",
       "<path fill=\"none\" stroke=\"black\" d=\"M340.62,-73.64C326.29,-64.44 307.8,-52.57 291.72,-42.24\"/>\n",
       "<polygon fill=\"black\" stroke=\"black\" points=\"293.66,-39.32 283.35,-36.86 289.87,-45.21 293.66,-39.32\"/>\n",
       "</g>\n",
       "</g>\n",
       "</svg>\n"
      ],
      "text/plain": [
       "<graphviz.graphs.Digraph at 0x29cda47c0>"
      ]
     },
     "execution_count": 7,
     "metadata": {},
     "output_type": "execute_result"
    }
   ],
   "source": [
    "sim.get_graph()"
   ]
  },
  {
   "cell_type": "code",
   "execution_count": 8,
   "id": "3efa4c42",
   "metadata": {},
   "outputs": [
    {
     "data": {
      "image/svg+xml": [
       "<?xml version=\"1.0\" encoding=\"UTF-8\" standalone=\"no\"?>\n",
       "<!DOCTYPE svg PUBLIC \"-//W3C//DTD SVG 1.1//EN\"\n",
       " \"http://www.w3.org/Graphics/SVG/1.1/DTD/svg11.dtd\">\n",
       "<!-- Generated by graphviz version 7.1.0 (20230121.1956)\n",
       " -->\n",
       "<!-- Pages: 1 -->\n",
       "<svg width=\"311pt\" height=\"188pt\"\n",
       " viewBox=\"0.00 0.00 310.87 188.00\" xmlns=\"http://www.w3.org/2000/svg\" xmlns:xlink=\"http://www.w3.org/1999/xlink\">\n",
       "<g id=\"graph0\" class=\"graph\" transform=\"scale(1 1) rotate(0) translate(4 184)\">\n",
       "<polygon fill=\"white\" stroke=\"none\" points=\"-4,4 -4,-184 306.87,-184 306.87,4 -4,4\"/>\n",
       "<!-- sie -->\n",
       "<g id=\"node1\" class=\"node\">\n",
       "<title>sie</title>\n",
       "<ellipse fill=\"none\" stroke=\"black\" cx=\"151.44\" cy=\"-162\" rx=\"42.49\" ry=\"18\"/>\n",
       "<text text-anchor=\"middle\" x=\"151.44\" y=\"-158.3\" font-family=\"Times,serif\" font-size=\"14.00\">SIE(&#39;sie&#39;)</text>\n",
       "</g>\n",
       "<!-- cosmo -->\n",
       "<g id=\"node2\" class=\"node\">\n",
       "<title>cosmo</title>\n",
       "<ellipse fill=\"none\" stroke=\"black\" cx=\"151.44\" cy=\"-90\" rx=\"147.57\" ry=\"18\"/>\n",
       "<text text-anchor=\"middle\" x=\"151.44\" y=\"-86.3\" font-family=\"Times,serif\" font-size=\"14.00\">FlatLambdaCDMCosmology(&#39;cosmo&#39;)</text>\n",
       "</g>\n",
       "<!-- sie&#45;&gt;cosmo -->\n",
       "<g id=\"edge1\" class=\"edge\">\n",
       "<title>sie&#45;&gt;cosmo</title>\n",
       "<path fill=\"none\" stroke=\"black\" d=\"M151.44,-143.7C151.44,-136.41 151.44,-127.73 151.44,-119.54\"/>\n",
       "<polygon fill=\"black\" stroke=\"black\" points=\"154.94,-119.62 151.44,-109.62 147.94,-119.62 154.94,-119.62\"/>\n",
       "</g>\n",
       "<!-- dummy -->\n",
       "<g id=\"node3\" class=\"node\">\n",
       "<title>dummy</title>\n",
       "<ellipse fill=\"none\" stroke=\"black\" cx=\"151.44\" cy=\"-18\" rx=\"151.37\" ry=\"18\"/>\n",
       "<text text-anchor=\"middle\" x=\"151.44\" y=\"-14.3\" font-family=\"Times,serif\" font-size=\"14.00\">FlatLambdaCDMCosmology(&#39;dummy&#39;)</text>\n",
       "</g>\n",
       "<!-- cosmo&#45;&gt;dummy -->\n",
       "<g id=\"edge2\" class=\"edge\">\n",
       "<title>cosmo&#45;&gt;dummy</title>\n",
       "<path fill=\"none\" stroke=\"black\" d=\"M151.44,-71.7C151.44,-64.41 151.44,-55.73 151.44,-47.54\"/>\n",
       "<polygon fill=\"black\" stroke=\"black\" points=\"154.94,-47.62 151.44,-37.62 147.94,-47.62 154.94,-47.62\"/>\n",
       "</g>\n",
       "</g>\n",
       "</svg>\n"
      ],
      "text/plain": [
       "<graphviz.graphs.Digraph at 0x29cda4a90>"
      ]
     },
     "execution_count": 8,
     "metadata": {},
     "output_type": "execute_result"
    }
   ],
   "source": [
    "sie.get_graph()"
   ]
  },
  {
   "cell_type": "code",
   "execution_count": 10,
   "id": "b4a969af",
   "metadata": {},
   "outputs": [
    {
     "data": {
      "text/plain": [
       "'/Users/amcoogan/Downloads/sim-weird.pdf'"
      ]
     },
     "execution_count": 10,
     "metadata": {},
     "output_type": "execute_result"
    }
   ],
   "source": [
    "sim.get_graph(True, True).render(\"/Users/amcoogan/Downloads/sim-weird\")"
   ]
  },
  {
   "cell_type": "code",
   "execution_count": null,
   "id": "7bcd4c3e",
   "metadata": {},
   "outputs": [],
   "source": []
  },
  {
   "cell_type": "code",
   "execution_count": null,
   "id": "915d83be",
   "metadata": {},
   "outputs": [],
   "source": []
  },
  {
   "cell_type": "code",
   "execution_count": null,
   "id": "a5b5645f",
   "metadata": {},
   "outputs": [],
   "source": []
  },
  {
   "cell_type": "markdown",
   "id": "17b204d8",
   "metadata": {},
   "source": [
    "There are a few things I'm not clear on with this approach.\n",
    "- In this approach, I don't think we can't run the same model component on different parameters: through the component's name, it's tied to one set of parameters in `x`. This makes it expensive to do things like include multiple `KappaGrid` lenses: each set of `Param`s must be associated with one `KappaGrid`, so we need to create a redundant set of kernels.\n",
    "- How should we handle `Param`s like `z_s`? In what's above, I made this a parameter of the simulator, but that means we have to explicitly pass it to `raytrace`. How will this generalize?\n",
    "- Is it confusing that names of `Param`s and `Parametrized` don't match the names of the attributes they're bound to?"
   ]
  },
  {
   "cell_type": "code",
   "execution_count": null,
   "id": "cb0b53db",
   "metadata": {},
   "outputs": [],
   "source": []
  }
 ],
 "metadata": {
  "kernelspec": {
   "display_name": "Python 3 (ipykernel)",
   "language": "python",
   "name": "python3"
  },
  "language_info": {
   "codemirror_mode": {
    "name": "ipython",
    "version": 3
   },
   "file_extension": ".py",
   "mimetype": "text/x-python",
   "name": "python",
   "nbconvert_exporter": "python",
   "pygments_lexer": "ipython3",
   "version": "3.10.3"
  }
 },
 "nbformat": 4,
 "nbformat_minor": 5
}
