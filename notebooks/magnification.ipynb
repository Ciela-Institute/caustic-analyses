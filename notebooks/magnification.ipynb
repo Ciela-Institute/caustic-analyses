{
 "cells": [
  {
   "cell_type": "markdown",
   "id": "7a9eb36d",
   "metadata": {},
   "source": [
    "In this notebook we construct a function to simulate images of lenses consisting of an EPL and Sersic. It's *nearly* as simple as possible: the one complexity is that the image is first simulated on a fine grid and then downsampled to the target one."
   ]
  },
  {
   "cell_type": "code",
   "execution_count": 1,
   "id": "0eab7e1b",
   "metadata": {},
   "outputs": [],
   "source": [
    "%load_ext autoreload\n",
    "%autoreload 2"
   ]
  },
  {
   "cell_type": "code",
   "execution_count": 2,
   "id": "2bace58c",
   "metadata": {},
   "outputs": [],
   "source": [
    "from functools import partial\n",
    "from math import pi\n",
    "\n",
    "import functorch\n",
    "import matplotlib.pyplot as plt\n",
    "import torch\n",
    "import torch.nn.functional as F\n",
    "\n",
    "from caustic.cosmology import FlatLambdaCDMCosmology\n",
    "from caustic.lenses import EPL, Point\n",
    "from caustic.sources import Sersic\n",
    "from caustic.utils import get_meshgrid\n",
    "\n",
    "\n",
    "DEVICE = \"cpu\""
   ]
  },
  {
   "cell_type": "markdown",
   "id": "d2cd9231",
   "metadata": {},
   "source": [
    "Define image grid"
   ]
  },
  {
   "cell_type": "code",
   "execution_count": 3,
   "id": "fd4c6724",
   "metadata": {},
   "outputs": [],
   "source": [
    "fov = 5.0\n",
    "n_pix = 50\n",
    "res = fov / n_pix"
   ]
  },
  {
   "cell_type": "markdown",
   "id": "3a0b268f",
   "metadata": {},
   "source": [
    "Create fine grid used in `simulate()`"
   ]
  },
  {
   "cell_type": "code",
   "execution_count": 4,
   "id": "85d872c3",
   "metadata": {},
   "outputs": [],
   "source": [
    "upsample_factor = 4\n",
    "_thx_fine, _thy_fine = get_meshgrid(\n",
    "    res / upsample_factor, upsample_factor * n_pix, upsample_factor * n_pix, DEVICE\n",
    ")"
   ]
  },
  {
   "cell_type": "markdown",
   "id": "0e420276",
   "metadata": {},
   "source": [
    "Actual image grid for later use"
   ]
  },
  {
   "cell_type": "code",
   "execution_count": 5,
   "id": "fa193fdd",
   "metadata": {},
   "outputs": [],
   "source": [
    "thx, thy = get_meshgrid(res, n_pix, n_pix, DEVICE)"
   ]
  },
  {
   "cell_type": "markdown",
   "id": "6bbf4123",
   "metadata": {},
   "source": [
    "Fix lens and source models, redshifts, cosmology and noise level"
   ]
  },
  {
   "cell_type": "code",
   "execution_count": 6,
   "id": "89978859",
   "metadata": {},
   "outputs": [],
   "source": [
    "lens = EPL(DEVICE)\n",
    "src = Sersic(DEVICE)\n",
    "z_l = torch.tensor(0.5, device=DEVICE)\n",
    "z_s = torch.tensor(2.1, device=DEVICE)\n",
    "cosmology = FlatLambdaCDMCosmology()\n",
    "sigma_n = torch.tensor(20.0)"
   ]
  },
  {
   "cell_type": "markdown",
   "id": "fbe7c81d",
   "metadata": {},
   "source": [
    "Define `simulate()` function"
   ]
  },
  {
   "cell_type": "code",
   "execution_count": 7,
   "id": "ed9e88b3",
   "metadata": {},
   "outputs": [],
   "source": [
    "def simulate(x_lens, x_src):\n",
    "    \"\"\"\n",
    "    Args:\n",
    "        x_lens: tensor of lens arguments.\n",
    "        x_src: tensor of source arguments.\n",
    "    \"\"\"\n",
    "    # Ray-trace\n",
    "    beta_x, beta_y = lens.raytrace(\n",
    "        _thx_fine, _thy_fine, z_l, z_s, cosmology, *x_lens\n",
    "    )\n",
    "    # Evaluate source\n",
    "    mu_fine = src.brightness(beta_x, beta_y, *x_src)\n",
    "    # Downsample\n",
    "    mu = F.avg_pool2d(mu_fine[None, None, :, :], upsample_factor)[0, 0]\n",
    "    # Add noise\n",
    "    return mu + sigma_n * torch.randn_like(mu)"
   ]
  },
  {
   "cell_type": "markdown",
   "id": "dffd03e0",
   "metadata": {},
   "source": [
    "Fix lens and source parameters and simulate"
   ]
  },
  {
   "cell_type": "code",
   "execution_count": 8,
   "id": "bdfa4a77",
   "metadata": {
    "scrolled": false
   },
   "outputs": [
    {
     "data": {
      "text/plain": [
       "<matplotlib.colorbar.Colorbar at 0x29ce32b60>"
      ]
     },
     "execution_count": 8,
     "metadata": {},
     "output_type": "execute_result"
    },
    {
     "data": {
      "image/png": "[encoded data removed]",
      "text/plain": [
       "<Figure size 432x288 with 2 Axes>"
      ]
     },
     "metadata": {
      "needs_background": "light"
     },
     "output_type": "display_data"
    }
   ],
   "source": [
    "# EPL args: thx0, thy0, q, phi, b, t\n",
    "x_lens = torch.tensor([0.0, 0.0, 0.8, pi/6, 1.5, 1.1], device=DEVICE)\n",
    "# Sersic args: thx0, thy0, q, phi, index, th_e, I_e\n",
    "x_src = torch.tensor([0.13, 0.04, 0.6, pi/4, 4.0, 2.5, 1.0], device=DEVICE)\n",
    "\n",
    "# Simulate!\n",
    "mu = simulate(x_lens, x_src)\n",
    "\n",
    "# Plot\n",
    "plt.imshow(mu, cmap=\"RdBu_r\", vmin=-mu.abs().max(), vmax=mu.abs().max(), origin=\"lower\")\n",
    "plt.colorbar()"
   ]
  },
  {
   "cell_type": "code",
   "execution_count": null,
   "id": "11839f82",
   "metadata": {},
   "outputs": [],
   "source": []
  },
  {
   "cell_type": "markdown",
   "id": "34e5ac9f",
   "metadata": {},
   "source": [
    "Since our lensing model is differentiable, we can compute the magnification with automatic differentiation"
   ]
  },
  {
   "cell_type": "code",
   "execution_count": 9,
   "id": "210adbc1",
   "metadata": {},
   "outputs": [],
   "source": [
    "from caustic.lenses.utils import get_magnification"
   ]
  },
  {
   "cell_type": "code",
   "execution_count": 10,
   "id": "f686fb0b",
   "metadata": {
    "scrolled": false
   },
   "outputs": [],
   "source": [
    "_mag_fine = get_magnification(\n",
    "    lens.raytrace, _thx_fine, _thy_fine, z_l, z_s, cosmology, *x_lens\n",
    ")\n",
    "mag = F.avg_pool2d(_mag_fine[None, None, :, :], upsample_factor)[0, 0]"
   ]
  },
  {
   "cell_type": "code",
   "execution_count": 11,
   "id": "1e2be740",
   "metadata": {},
   "outputs": [
    {
     "data": {
      "text/plain": [
       "<matplotlib.colorbar.Colorbar at 0x29d9620e0>"
      ]
     },
     "execution_count": 11,
     "metadata": {},
     "output_type": "execute_result"
    },
    {
     "data": {
      "image/png": "[encoded data removed]",
      "text/plain": [
       "<Figure size 432x288 with 2 Axes>"
      ]
     },
     "metadata": {
      "needs_background": "light"
     },
     "output_type": "display_data"
    }
   ],
   "source": [
    "plt.imshow(mag.log(), origin=\"lower\", cmap=\"Reds\")\n",
    "plt.colorbar()"
   ]
  },
  {
   "cell_type": "code",
   "execution_count": null,
   "id": "14fb4d31",
   "metadata": {},
   "outputs": [],
   "source": []
  },
  {
   "cell_type": "markdown",
   "id": "9441947a",
   "metadata": {},
   "source": [
    "We can batch over a bunch of point mass lenses"
   ]
  },
  {
   "cell_type": "code",
   "execution_count": 12,
   "id": "71136889",
   "metadata": {},
   "outputs": [],
   "source": [
    "lens = Point()"
   ]
  },
  {
   "cell_type": "code",
   "execution_count": 15,
   "id": "c8db56fc",
   "metadata": {},
   "outputs": [],
   "source": [
    "n_pts = 100\n",
    "thx0s = fov * (torch.rand(n_pts) - 0.5)\n",
    "thy0s = fov * (torch.rand(n_pts) - 0.5)\n",
    "th_eins = 0.5 * torch.randn(n_pts).abs()\n",
    "\n",
    "in_dims = 5 * (None,) + 3 * (0,)\n",
    "raytrace_vmap = functorch.vmap(lens.raytrace, in_dims=in_dims)\n",
    "\n",
    "# Plumbing\n",
    "def raytrace_vmap(get_alpha, thx, thy, z_l, z_s, cosmology, *args, **kwargs):\n",
    "    n_args = len(args) + len(kwargs)\n",
    "    in_dims = 5 * (None,) + n_args * (0,)\n",
    "    axs, ays = functorch.vmap(get_alpha, in_dims=in_dims)(\n",
    "        thx, thy, z_l, z_s, cosmology, *args, **kwargs\n",
    "    )\n",
    "    bx = thx - axs.sum(0)\n",
    "    by = thy - ays.sum(0)\n",
    "    return bx, by"
   ]
  },
  {
   "cell_type": "code",
   "execution_count": 26,
   "id": "b837bd4c",
   "metadata": {},
   "outputs": [
    {
     "data": {
      "text/plain": [
       "<matplotlib.colorbar.Colorbar at 0x2b782ec80>"
      ]
     },
     "execution_count": 26,
     "metadata": {},
     "output_type": "execute_result"
    },
    {
     "data": {
      "image/png": "[encoded data removed]",
      "text/plain": [
       "<Figure size 432x288 with 2 Axes>"
      ]
     },
     "metadata": {
      "needs_background": "light"
     },
     "output_type": "display_data"
    }
   ],
   "source": [
    "n_pts = 100\n",
    "thx0s = fov * (torch.rand(n_pts) - 0.5)\n",
    "thy0s = fov * (torch.rand(n_pts) - 0.5)\n",
    "th_eins = 0.5 * torch.randn(n_pts).abs()\n",
    "\n",
    "_mag_fine = get_magnification(\n",
    "    partial(raytrace_vmap, lens.alpha),\n",
    "    _thx_fine,\n",
    "    _thy_fine,\n",
    "    z_l,\n",
    "    z_s,\n",
    "    cosmology,\n",
    "    thx0s,\n",
    "    thy0s,\n",
    "    th_eins,\n",
    ")\n",
    "mag = F.avg_pool2d(_mag_fine[None, None, :, :], upsample_factor)[0, 0]\n",
    "\n",
    "plt.imshow(mag.log(), origin=\"lower\", cmap=\"Reds\", vmax=10)\n",
    "plt.colorbar()"
   ]
  },
  {
   "cell_type": "code",
   "execution_count": null,
   "id": "bba2acb2",
   "metadata": {},
   "outputs": [],
   "source": []
  },
  {
   "cell_type": "code",
   "execution_count": null,
   "id": "bfedeb67",
   "metadata": {},
   "outputs": [],
   "source": []
  },
  {
   "cell_type": "code",
   "execution_count": null,
   "id": "d45c0d87",
   "metadata": {},
   "outputs": [],
   "source": []
  },
  {
   "cell_type": "code",
   "execution_count": null,
   "id": "1d1add7c",
   "metadata": {},
   "outputs": [],
   "source": []
  }
 ],
 "metadata": {
  "kernelspec": {
   "display_name": "Python 3 (ipykernel)",
   "language": "python",
   "name": "python3"
  },
  "language_info": {
   "codemirror_mode": {
    "name": "ipython",
    "version": 3
   },
   "file_extension": ".py",
   "mimetype": "text/x-python",
   "name": "python",
   "nbconvert_exporter": "python",
   "pygments_lexer": "ipython3",
   "version": "3.10.3"
  }
 },
 "nbformat": 4,
 "nbformat_minor": 5
}
