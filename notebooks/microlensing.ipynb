{
 "cells": [
  {
   "cell_type": "code",
   "execution_count": 1,
   "id": "5f1f9772",
   "metadata": {},
   "outputs": [],
   "source": [
    "%load_ext autoreload\n",
    "%autoreload 2"
   ]
  },
  {
   "cell_type": "code",
   "execution_count": 2,
   "id": "35041dde",
   "metadata": {},
   "outputs": [],
   "source": [
    "from math import pi\n",
    "\n",
    "from functorch import vmap\n",
    "from matplotlib.colors import CenteredNorm\n",
    "import matplotlib.pyplot as plt\n",
    "import torch\n",
    "\n",
    "from caustic.cosmology import FlatLambdaCDMCosmology\n",
    "from caustic.fwd_raytrace import fwd_raytrace\n",
    "from caustic.lenses import SIE, Point\n",
    "from caustic.lenses import get_pix_magnification, get_pix_jacobian, get_magnification\n",
    "from caustic.sources import Sersic\n",
    "from caustic.utils import get_meshgrid"
   ]
  },
  {
   "cell_type": "markdown",
   "id": "48e07df9",
   "metadata": {},
   "source": [
    "Setup"
   ]
  },
  {
   "cell_type": "code",
   "execution_count": 3,
   "id": "a4e0dfc2",
   "metadata": {},
   "outputs": [
    {
     "name": "stdout",
     "output_type": "stream",
     "text": [
      "SIE(\n",
      "    name='sie',\n",
      "    static=[z_l, s],\n",
      "    dynamic=[thx0, thy0, q, phi, b; ('cosmo': ['h0', 'rho_cr_0', 'Om0'])]\n",
      ")\n",
      "Sersic(\n",
      "    name='sersic',\n",
      "    static=[s],\n",
      "    dynamic=[thx0, thy0, q, phi, index, th_e, I_e]\n",
      ")\n"
     ]
    }
   ],
   "source": [
    "s = torch.tensor(1e-10)\n",
    "\n",
    "fov = 5.0\n",
    "n_pix = 100\n",
    "res = fov / n_pix\n",
    "thx, thy = get_meshgrid(res, n_pix, n_pix)\n",
    "\n",
    "cosmology = FlatLambdaCDMCosmology(\"cosmo\")\n",
    "z_l = torch.tensor(0.8)\n",
    "lens = SIE(\"sie\", cosmology, z_l, s=s)\n",
    "\n",
    "z_s = torch.tensor(1.9)\n",
    "src = Sersic(\"sersic\", s=s)\n",
    "\n",
    "print(lens)\n",
    "print(src)\n",
    "\n",
    "x_lens = torch.tensor([0.12, -0.03, 0.7, pi / 3, 1.2])\n",
    "x_src = torch.tensor([0.0, 0.0, 0.8, 0.5, 1.5, 0.1, 1.0])"
   ]
  },
  {
   "cell_type": "markdown",
   "id": "96686fa3",
   "metadata": {},
   "source": [
    "Extended arc"
   ]
  },
  {
   "cell_type": "code",
   "execution_count": 4,
   "id": "7c28447c",
   "metadata": {},
   "outputs": [],
   "source": [
    "bx, by = lens.raytrace(thx, thy, z_s, lens.x_to_dict(x_lens))\n",
    "mu = src.brightness(bx, by, src.x_to_dict(x_src))"
   ]
  },
  {
   "cell_type": "markdown",
   "id": "f32d2d13",
   "metadata": {},
   "source": [
    "Find quasar images"
   ]
  },
  {
   "cell_type": "code",
   "execution_count": 5,
   "id": "e4f4b3cf",
   "metadata": {},
   "outputs": [],
   "source": [
    "thxs, thys = fwd_raytrace(\n",
    "    x_src[0],\n",
    "    x_src[1],\n",
    "    lambda thx, thy: torch.stack(lens.raytrace(thx, thy, z_s, lens.x_to_dict(x_lens))),\n",
    "    4,\n",
    "    (-fov / 2, fov / 2),\n",
    "    (-fov / 2, fov / 2),\n",
    "    n_guesses=50,\n",
    ").t()"
   ]
  },
  {
   "cell_type": "code",
   "execution_count": 6,
   "id": "ed76d628",
   "metadata": {},
   "outputs": [
    {
     "data": {
      "text/plain": [
       "Text(0, 0.5, \"$y$ [$''$]\")"
      ]
     },
     "execution_count": 6,
     "metadata": {},
     "output_type": "execute_result"
    },
    {
     "data": {
      "image/png": "[encoded data removed]",
      "text/plain": [
       "<Figure size 576x576 with 1 Axes>"
      ]
     },
     "metadata": {
      "needs_background": "light"
     },
     "output_type": "display_data"
    }
   ],
   "source": [
    "plt.figure(figsize=(8, 8))\n",
    "\n",
    "plt.imshow(\n",
    "    mu,\n",
    "    cmap=\"RdBu_r\",\n",
    "    origin=\"lower\",\n",
    "    norm=CenteredNorm(),\n",
    "    extent=(-fov / 2, fov / 2, -fov / 2, fov / 2),\n",
    ")\n",
    "for idx in range(4):\n",
    "    plt.scatter(thxs[idx], thys[idx], c=\"C0\", ec=\"k\", s=100)\n",
    "    plt.annotate(\n",
    "        f\"{idx + 1}\",\n",
    "        (thxs[idx], thys[idx]),\n",
    "        (0, 20),\n",
    "        textcoords=\"offset points\",\n",
    "        fontsize=14,\n",
    "    )\n",
    "\n",
    "plt.xlabel(r\"$x$ [$''$]\")\n",
    "plt.ylabel(r\"$y$ [$''$]\")"
   ]
  },
  {
   "cell_type": "code",
   "execution_count": null,
   "id": "0cd15963",
   "metadata": {},
   "outputs": [],
   "source": []
  },
  {
   "cell_type": "code",
   "execution_count": 9,
   "id": "432db299",
   "metadata": {
    "code_folding": [
     0
    ]
   },
   "outputs": [],
   "source": [
    "def get_parallelogram_sampler(thx, thy, bx, by, fov_src, lens, x):\n",
    "    \"\"\"\n",
    "    Gets a function to generate samples in a parallelogram that trace back to\n",
    "    a square region in the source plane.\n",
    "    \n",
    "    Args:\n",
    "        thx, thy: image-plane coordinates.\n",
    "        bx, by: source-plane coordinates that solve the lensing equation.\n",
    "        fov_src: width of source region.\n",
    "        lens: lens instance.\n",
    "        x: params for lens.\n",
    "    \"\"\"\n",
    "    thxy_corners_im = torch.stack((thx, thy))\n",
    "\n",
    "    # We'll assume the source region maps to a parallelogram in the lens plane,\n",
    "    # so we can drop the last corner\n",
    "    corners_src = torch.stack(\n",
    "        (\n",
    "            (bx + torch.tensor((-fov_src / 2, fov_src / 2))).repeat(2),\n",
    "            (by + torch.tensor((-fov_src / 2, fov_src / 2))).repeat_interleave(2),\n",
    "        )\n",
    "    )[..., :-1]\n",
    "\n",
    "    # Since source region is small, we can linearize the lensing equation to\n",
    "    # map into the lens plane\n",
    "    jac = torch.stack(\n",
    "        [\n",
    "            torch.stack((j0, j1))\n",
    "            for j0, j1 in get_pix_jacobian(\n",
    "                lens.raytrace, thx, thy, z_s, x\n",
    "            )\n",
    "        ]\n",
    "    )\n",
    "    corners_im = torch.linalg.inv(jac) @ corners_src + thxy_corners_im[:, None]\n",
    "\n",
    "    # Vectors defining sides of parallelogram\n",
    "    side_a = corners_im[:, 1] - corners_im[:, 0]\n",
    "    side_b = corners_im[:, 2] - corners_im[:, 0]\n",
    "\n",
    "    def sampler(n=1):\n",
    "        # See https://stackoverflow.com/a/240790\n",
    "        u = torch.rand(n, 1) - 0.5\n",
    "        v = torch.rand(n, 1) - 0.5\n",
    "        return thxy_corners_im + u * side_a[None] + v * side_b[None]\n",
    "    \n",
    "    return sampler"
   ]
  },
  {
   "cell_type": "code",
   "execution_count": 16,
   "id": "dab9cf40",
   "metadata": {},
   "outputs": [],
   "source": [
    "# Set up sampler for an image\n",
    "idx = 0\n",
    "fov_src = res / 10_000\n",
    "sampler = get_parallelogram_sampler(\n",
    "    thxs[idx], thys[idx], x_src[0], x_src[1], fov_src, lens, lens.x_to_dict(x_lens)\n",
    ")\n",
    "\n",
    "# Sample star parameters -- these are fixed across time\n",
    "n_pts = 30\n",
    "thx_pts, thy_pts = sampler(n_pts).t()\n",
    "th_ein_pts = torch.tensor(1e-6).repeat(n_pts)\n",
    "vx_pts = 1e-5 * torch.randn(n_pts)\n",
    "vy_pts = 1e-5 * torch.randn(n_pts)"
   ]
  },
  {
   "cell_type": "code",
   "execution_count": 17,
   "id": "26214f3a",
   "metadata": {},
   "outputs": [],
   "source": [
    "def alpha_snapshot(thx, thy, t, thx_pts, thy_pts, vx_pts, vy_pts, th_ein_pts):\n",
    "    x_pts = torch.stack((thx_pts + vx_pts * t, thy_pts + vy_pts * t, th_ein_pts), -1)\n",
    "    ax, ay = torch.stack(\n",
    "        lens.alpha(thx, thy, z_s, lens.x_to_dict(x_lens))\n",
    "    ) + torch.stack(\n",
    "        vmap(pt.alpha, (None, None, None, 0))(thx, thy, z_s, pt.x_to_dict(x_pts))\n",
    "    ).sum(\n",
    "        -2\n",
    "    )\n",
    "    return ax, ay"
   ]
  },
  {
   "cell_type": "code",
   "execution_count": 18,
   "id": "36f22c83",
   "metadata": {},
   "outputs": [],
   "source": [
    "pt = Point(\"pt\", cosmology, z_l)"
   ]
  },
  {
   "cell_type": "code",
   "execution_count": 19,
   "id": "74a703f4",
   "metadata": {},
   "outputs": [],
   "source": [
    "# Ray-trace through a bunch of random points over a bunch of times\n",
    "ts = torch.linspace(0, 5, 10)\n",
    "n_mc = 300_000\n",
    "thx_mc, thy_mc = sampler(n_mc).t()\n",
    "\n",
    "ax_ts, ay_ts = vmap(\n",
    "    alpha_snapshot,\n",
    "    (None, None, 0, None, None, None, None, None),\n",
    ")(thx_mc, thy_mc, ts, thx_pts, thy_pts, vx_pts, vy_pts, th_ein_pts)\n",
    "bx_ts = thx_mc - ax_ts\n",
    "by_ts = thy_mc - ay_ts"
   ]
  },
  {
   "cell_type": "code",
   "execution_count": 20,
   "id": "4bfdb108",
   "metadata": {},
   "outputs": [
    {
     "data": {
      "text/plain": [
       "Text(0.5, 1.0, 'Image 1, t=0.0')"
      ]
     },
     "execution_count": 20,
     "metadata": {},
     "output_type": "execute_result"
    },
    {
     "data": {
      "image/png": "[encoded data removed]",
      "text/plain": [
       "<Figure size 1080x1080 with 1 Axes>"
      ]
     },
     "metadata": {
      "needs_background": "light"
     },
     "output_type": "display_data"
    }
   ],
   "source": [
    "i = 0\n",
    "\n",
    "# Plot\n",
    "plt.figure(figsize=(15, 15))\n",
    "\n",
    "extent_x = (x_src[0] - 10*fov_src/1.8, x_src[0] + 10*fov_src/1.8)\n",
    "extent_y = (x_src[1] - 10*fov_src/1.8, x_src[1] + 10*fov_src/1.8)\n",
    "\n",
    "plt.hist2d(\n",
    "    bx_ts[i].numpy(),\n",
    "    by_ts[i].numpy(),\n",
    "    bins=(torch.linspace(*extent_x, 200), torch.linspace(*extent_y, 200)),\n",
    "#     bins = 100,\n",
    "    cmap=\"Reds\",\n",
    "    cmin=1,\n",
    ")\n",
    "\n",
    "plt.gca().set_aspect(\"equal\")\n",
    "# plt.xlim(extent_x)\n",
    "# plt.ylim(extent_y)\n",
    "plt.xlabel(r\"$x$ [$''$]\")\n",
    "plt.ylabel(r\"$y$ [$''$]\")\n",
    "plt.title(f\"Image {idx + 1}, t={ts[i]}\")"
   ]
  },
  {
   "cell_type": "code",
   "execution_count": null,
   "id": "54e39096",
   "metadata": {},
   "outputs": [],
   "source": []
  }
 ],
 "metadata": {
  "kernelspec": {
   "display_name": "Python 3 (ipykernel)",
   "language": "python",
   "name": "python3"
  },
  "language_info": {
   "codemirror_mode": {
    "name": "ipython",
    "version": 3
   },
   "file_extension": ".py",
   "mimetype": "text/x-python",
   "name": "python",
   "nbconvert_exporter": "python",
   "pygments_lexer": "ipython3",
   "version": "3.10.3"
  }
 },
 "nbformat": 4,
 "nbformat_minor": 5
}
