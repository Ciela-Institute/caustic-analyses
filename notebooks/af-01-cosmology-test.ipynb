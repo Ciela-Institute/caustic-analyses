{
 "cells": [
  {
   "cell_type": "code",
   "execution_count": null,
   "id": "a52456e9",
   "metadata": {},
   "outputs": [],
   "source": []
  },
  {
   "cell_type": "code",
   "execution_count": 2,
   "id": "89507dfe",
   "metadata": {},
   "outputs": [],
   "source": [
    "import torch\n",
    "from lenstronomy.LensModel.lens_model import LensModel\n",
    "#from caustic_test.caustic.test.utils import lens_test_helper\n",
    "\n",
    "from caustic.cosmology import FlatLambdaCDMCosmology\n",
    "from caustic.lenses import NFW\n",
    "\n",
    "#next to imports to get Rs_angle and alpha_Rs in arcsec for lenstronomy\n",
    "from lenstronomy.Cosmo.lens_cosmo import LensCosmo\n",
    "from astropy.cosmology import FlatLambdaCDM\n",
    "\n",
    "from astropy.cosmology import default_cosmology\n",
    "from scipy.special import hyp2f1\n",
    "\n",
    "from lenstronomy.Cosmo.nfw_param import NFWParam\n",
    "\n",
    "import numpy as np\n",
    "\n",
    "import matplotlib.pyplot as plt"
   ]
  },
  {
   "cell_type": "code",
   "execution_count": 3,
   "id": "cd2d7d8c",
   "metadata": {},
   "outputs": [],
   "source": [
    "h0_default = float(default_cosmology.get().h)\n",
    "rho_cr_0_default = float(\n",
    "    default_cosmology.get().critical_density(0).to(\"solMass/Mpc^3\").value\n",
    ")\n",
    "Om0_default = float(default_cosmology.get().Om0)\n",
    "Ob0_default = float(default_cosmology.get().Ob0)"
   ]
  },
  {
   "cell_type": "code",
   "execution_count": 4,
   "id": "7cbc14f5",
   "metadata": {},
   "outputs": [],
   "source": [
    "cosmology = FlatLambdaCDMCosmology()\n",
    "\n",
    "cosmo = FlatLambdaCDM(H0=h0_default*100., Om0=Om0_default, Ob0=Ob0_default)\n",
    "lenstr = NFWParam(cosmo=cosmo)\n",
    "rho_c_lenstronomy = lenstr.rho0_c(15., 0.001) #* 0.6766**(-2.)"
   ]
  },
  {
   "cell_type": "code",
   "execution_count": 19,
   "id": "cbef7fe3",
   "metadata": {},
   "outputs": [
    {
     "data": {
      "text/plain": [
       "array(17.1870004)"
      ]
     },
     "execution_count": 19,
     "metadata": {},
     "output_type": "execute_result"
    }
   ],
   "source": [
    "#This should return 15!!!!!\n",
    "lenstr.c_rho0(rho_c_lenstronomy, 0.001)"
   ]
  },
  {
   "cell_type": "code",
   "execution_count": 7,
   "id": "9dfbd632",
   "metadata": {},
   "outputs": [
    {
     "name": "stdout",
     "output_type": "stream",
     "text": [
      "tensor(2.1844)\n"
     ]
    }
   ],
   "source": [
    "lens=NFW()\n",
    "Rhos_cau = lens.get_rho_s(0.001, cosmology, torch.tensor(15.))\n",
    "print(rho_c_lenstronomy/Rhos_cau)"
   ]
  },
  {
   "cell_type": "code",
   "execution_count": 8,
   "id": "fac06b12",
   "metadata": {},
   "outputs": [
    {
     "data": {
      "text/plain": [
       "2.1844193387741693"
      ]
     },
     "execution_count": 8,
     "metadata": {},
     "output_type": "execute_result"
    }
   ],
   "source": [
    "lenstr.rhoc_z(0.01)/cosmology.rho_cr(0.01)"
   ]
  },
  {
   "cell_type": "code",
   "execution_count": 14,
   "id": "5d48dc2a",
   "metadata": {},
   "outputs": [
    {
     "data": {
      "text/plain": [
       "2.1844193407090398"
      ]
     },
     "execution_count": 14,
     "metadata": {},
     "output_type": "execute_result"
    }
   ],
   "source": [
    "1/h0_default**2"
   ]
  },
  {
   "cell_type": "code",
   "execution_count": 9,
   "id": "978e2020",
   "metadata": {},
   "outputs": [],
   "source": [
    "x = np.arange(0.01,1.5,0.02)\n",
    "x_cau = torch.tensor(x)"
   ]
  },
  {
   "cell_type": "code",
   "execution_count": 10,
   "id": "f2ede553",
   "metadata": {},
   "outputs": [
    {
     "data": {
      "image/png": "[encoded data removed]",
      "text/plain": [
       "<Figure size 432x288 with 1 Axes>"
      ]
     },
     "metadata": {
      "needs_background": "light"
     },
     "output_type": "display_data"
    }
   ],
   "source": [
    "plt.plot(x, lenstr.rhoc_z(x), 'g')\n",
    "plt.plot(x, cosmology.rho_cr(x_cau).numpy())\n",
    "plt.show()"
   ]
  },
  {
   "cell_type": "code",
   "execution_count": null,
   "id": "dd02a0be",
   "metadata": {},
   "outputs": [],
   "source": []
  }
 ],
 "metadata": {
  "kernelspec": {
   "display_name": "Python 3 (ipykernel)",
   "language": "python",
   "name": "python3"
  },
  "language_info": {
   "codemirror_mode": {
    "name": "ipython",
    "version": 3
   },
   "file_extension": ".py",
   "mimetype": "text/x-python",
   "name": "python",
   "nbconvert_exporter": "python",
   "pygments_lexer": "ipython3",
   "version": "3.10.3"
  }
 },
 "nbformat": 4,
 "nbformat_minor": 5
}
