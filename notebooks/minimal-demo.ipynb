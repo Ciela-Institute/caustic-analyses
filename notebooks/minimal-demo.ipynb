{
 "cells": [
  {
   "cell_type": "markdown",
   "id": "69d12ee8",
   "metadata": {},
   "source": [
    "In this notebook we construct a function to simulate images of lenses consisting of an EPL and Sersic. It's *nearly* as simple as possible: the one complexity is that the image is first simulated on a fine grid and then downsampled to the target one."
   ]
  },
  {
   "cell_type": "code",
   "execution_count": 1,
   "id": "77697592",
   "metadata": {},
   "outputs": [],
   "source": [
    "%load_ext autoreload\n",
    "%autoreload 2"
   ]
  },
  {
   "cell_type": "code",
   "execution_count": 2,
   "id": "21a224a5",
   "metadata": {},
   "outputs": [],
   "source": [
    "from math import pi\n",
    "\n",
    "import matplotlib.pyplot as plt\n",
    "import torch\n",
    "import torch.nn.functional as F\n",
    "\n",
    "from caustic.cosmology import FlatLambdaCDMCosmology\n",
    "from caustic.lenses import EPL\n",
    "from caustic.sources import Sersic\n",
    "from caustic.utils import get_meshgrid\n",
    "\n",
    "\n",
    "DEVICE = \"cpu\""
   ]
  },
  {
   "cell_type": "markdown",
   "id": "98b98b84",
   "metadata": {},
   "source": [
    "Define image grid"
   ]
  },
  {
   "cell_type": "code",
   "execution_count": 3,
   "id": "da294fc7",
   "metadata": {},
   "outputs": [],
   "source": [
    "fov = 5.0\n",
    "n_pix = 50\n",
    "res = fov / n_pix"
   ]
  },
  {
   "cell_type": "markdown",
   "id": "0d421897",
   "metadata": {},
   "source": [
    "Create fine grid used in `simulate()`"
   ]
  },
  {
   "cell_type": "code",
   "execution_count": 4,
   "id": "904541e2",
   "metadata": {},
   "outputs": [],
   "source": [
    "upsample_factor = 4\n",
    "_thx_fine, _thy_fine = get_meshgrid(\n",
    "    res / upsample_factor, upsample_factor * n_pix, upsample_factor * n_pix, DEVICE\n",
    ")"
   ]
  },
  {
   "cell_type": "markdown",
   "id": "bec2e038",
   "metadata": {},
   "source": [
    "Actual image grid for later use"
   ]
  },
  {
   "cell_type": "code",
   "execution_count": 5,
   "id": "b75d93d0",
   "metadata": {},
   "outputs": [],
   "source": [
    "thx, thy = get_meshgrid(res, n_pix, n_pix, DEVICE)"
   ]
  },
  {
   "cell_type": "markdown",
   "id": "458cb8ef",
   "metadata": {},
   "source": [
    "Fix lens and source models, redshifts, cosmology and noise level"
   ]
  },
  {
   "cell_type": "code",
   "execution_count": 6,
   "id": "9cf95a9c",
   "metadata": {},
   "outputs": [],
   "source": [
    "lens = EPL(DEVICE)\n",
    "src = Sersic(DEVICE)\n",
    "z_l = torch.tensor(0.5, device=DEVICE)\n",
    "z_s = torch.tensor(2.1, device=DEVICE)\n",
    "cosmology = FlatLambdaCDMCosmology()\n",
    "sigma_n = torch.tensor(20.0)"
   ]
  },
  {
   "cell_type": "markdown",
   "id": "cde3db65",
   "metadata": {},
   "source": [
    "Define `simulate()` function"
   ]
  },
  {
   "cell_type": "code",
   "execution_count": 7,
   "id": "468efead",
   "metadata": {},
   "outputs": [],
   "source": [
    "def simulate(x_lens, x_src):\n",
    "    \"\"\"\n",
    "    Args:\n",
    "        x_lens: tensor of lens arguments.\n",
    "        x_src: tensor of source arguments.\n",
    "    \"\"\"\n",
    "    # Ray-trace\n",
    "    beta_x, beta_y = lens.raytrace(\n",
    "        _thx_fine, _thy_fine, z_l, z_s, cosmology, *x_lens\n",
    "    )\n",
    "    # Evaluate source\n",
    "    mu_fine = src.brightness(beta_x, beta_y, *x_src)\n",
    "    # Downsample\n",
    "    mu = F.avg_pool2d(mu_fine[None, None, :, :], upsample_factor)[0, 0]\n",
    "    # Add noise\n",
    "    return mu + sigma_n * torch.randn_like(mu)"
   ]
  },
  {
   "cell_type": "markdown",
   "id": "e0b71613",
   "metadata": {},
   "source": [
    "Fix lens and source parameters and simulate"
   ]
  },
  {
   "cell_type": "code",
   "execution_count": 8,
   "id": "6ea5ed22",
   "metadata": {},
   "outputs": [
    {
     "data": {
      "text/plain": [
       "<matplotlib.colorbar.Colorbar at 0x17f518370>"
      ]
     },
     "execution_count": 8,
     "metadata": {},
     "output_type": "execute_result"
    },
    {
     "data": {
      "image/png": "[encoded data removed]",
      "text/plain": [
       "<Figure size 432x288 with 2 Axes>"
      ]
     },
     "metadata": {
      "needs_background": "light"
     },
     "output_type": "display_data"
    }
   ],
   "source": [
    "# EPL args: thx0, thy0, q, phi, b, t\n",
    "x_lens = torch.tensor([0.0, 0.0, 0.8, pi/6, 1.5, 1.1], device=DEVICE)\n",
    "# Sersic args: thx0, thy0, q, phi, index, th_e, I_e\n",
    "x_src = torch.tensor([0.13, 0.04, 0.6, pi/4, 4.0, 2.5, 1.0], device=DEVICE)\n",
    "\n",
    "# Simulate!\n",
    "mu = simulate(x_lens, x_src)\n",
    "\n",
    "# Plot\n",
    "plt.imshow(mu, cmap=\"RdBu_r\", vmin=-mu.abs().max(), vmax=mu.abs().max(), origin=\"lower\")\n",
    "plt.colorbar()"
   ]
  },
  {
   "cell_type": "code",
   "execution_count": null,
   "id": "a62e2ced",
   "metadata": {},
   "outputs": [],
   "source": []
  }
 ],
 "metadata": {
  "kernelspec": {
   "display_name": "Python 3 (ipykernel)",
   "language": "python",
   "name": "python3"
  },
  "language_info": {
   "codemirror_mode": {
    "name": "ipython",
    "version": 3
   },
   "file_extension": ".py",
   "mimetype": "text/x-python",
   "name": "python",
   "nbconvert_exporter": "python",
   "pygments_lexer": "ipython3",
   "version": "3.10.3"
  }
 },
 "nbformat": 4,
 "nbformat_minor": 5
}
