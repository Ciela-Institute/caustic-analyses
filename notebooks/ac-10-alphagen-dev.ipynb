{
 "cells": [
  {
   "cell_type": "code",
   "execution_count": 1,
   "id": "5bd6a3ea",
   "metadata": {},
   "outputs": [],
   "source": [
    "%load_ext autoreload\n",
    "%autoreload 2"
   ]
  },
  {
   "cell_type": "code",
   "execution_count": 2,
   "id": "8a52e2d9",
   "metadata": {},
   "outputs": [],
   "source": [
    "import json\n",
    "from math import pi\n",
    "from pathlib import Path\n",
    "\n",
    "from functorch import vmap\n",
    "import matplotlib.pyplot as plt\n",
    "import torch\n",
    "import torch.nn.functional as F\n",
    "\n",
    "from caustic.cosmology import FlatLambdaCDM, h0_default\n",
    "from caustic.lenses.alphagen import (\n",
    "    JointModel_ST_CNN,\n",
    "    Normalizer,\n",
    "    SIE,\n",
    "    Point,\n",
    "    get_pix_magnification,\n",
    "    get_pix_jacobian,\n",
    "    get_magnification,\n",
    ")\n",
    "from caustic.parametrized import Parametrized\n",
    "from caustic.sources import Sersic\n",
    "from caustic.utils import get_meshgrid"
   ]
  },
  {
   "cell_type": "code",
   "execution_count": 33,
   "id": "a02b346d",
   "metadata": {},
   "outputs": [],
   "source": [
    "def load_model(kind: str, npix: int = 128, base_path: Path = Path(\"alphagen-weights\")):\n",
    "    base_path = base_path / f\"{kind}_weights\"\n",
    "\n",
    "    with open(base_path / f\"{kind}_hp.json\", \"r\") as f:\n",
    "        hps = json.load(f)\n",
    "\n",
    "    normalizer = Normalizer(\n",
    "        hps[\"normalize\"], \"NFW\", hps[\"segment\"], base_path / f\"{kind}_stats.h5\"\n",
    "    )\n",
    "\n",
    "    model = JointModel_ST_CNN(\n",
    "        **hps[\"set_model\"], **hps[\"map_model\"], npix=npix, normalizer=normalizer\n",
    "    )\n",
    "    return model"
   ]
  },
  {
   "cell_type": "code",
   "execution_count": 38,
   "id": "8e792788",
   "metadata": {},
   "outputs": [
    {
     "data": {
      "text/plain": [
       "<All keys matched successfully>"
      ]
     },
     "execution_count": 38,
     "metadata": {},
     "output_type": "execute_result"
    }
   ],
   "source": [
    "f_state_path = Path(\"alphagen-weights\") / \"f_weights\" / \"AlphaGen_F_prodruns_4_2500.pt\"\n",
    "f_net = load_model(\"f\")\n",
    "f_net.load_state_dict(torch.load(f_state_path, map_location=\"cpu\")[\"model_state_dict\"])\n",
    "\n",
    "b_state_path = Path(\"alphagen-weights\") / \"b_weights\" / \"AlphaGen_B_prodruns_1_1000.pt\"\n",
    "b_net = load_model(\"b\")\n",
    "b_net.load_state_dict(torch.load(b_state_path, map_location=\"cpu\")[\"model_state_dict\"])"
   ]
  },
  {
   "cell_type": "code",
   "execution_count": 3,
   "id": "8c14366e",
   "metadata": {},
   "outputs": [],
   "source": [
    "class Simulator(Parametrized):\n",
    "    def __init__(\n",
    "        self,\n",
    "        res,\n",
    "        n_pix,\n",
    "        lens,\n",
    "        src,\n",
    "        f_net: JointModel_ST_CNN,\n",
    "        b_net: JointModel_ST_CNN,\n",
    "        z_s=None,\n",
    "        upsample_factor=4,\n",
    "        name: str = \"sim\",\n",
    "    ):\n",
    "        super().__init__(name)\n",
    "        self.f_net = f_net\n",
    "        self.lens = lens\n",
    "        self.b_net = b_net\n",
    "        self.src = src\n",
    "        self.add_param(\"z_s\", z_s)\n",
    "        self.thx, self.thy = get_meshgrid(res, n_pix, n_pix)\n",
    "\n",
    "    def __call__(self, x):\n",
    "        x = self.x_to_dict(x)\n",
    "\n",
    "        z_s = self.unpack(x)\n",
    "\n",
    "        # TODO: batch and normalize halo parameters\n",
    "        h_f = ...\n",
    "        h_b = ...\n",
    "\n",
    "        # Ray-trace up to main deflector\n",
    "        f_coords = torch.stack((self.thx, self.thy))\n",
    "        f_coords = self.f_net.normalizer.forward_x(f_coords)\n",
    "        f_coords = torch.cat((f_coords, z_s.repeat(1, self.n_pix, self.n_pix)))\n",
    "        h_f = self.f_net.normalizer.forward(h_f)\n",
    "        alpha_f = self.f_net(h_f, f_coords)\n",
    "        alpha_f = self.f_net.normalizer.reverse_alpha(alpha_f[0], -1)  # TODO: batch\n",
    "        bx_md = self.thx - alpha_f[0]\n",
    "        by_md = self.thy - alpha_f[1]\n",
    "\n",
    "        # Get physical deflection angle for main deflector\n",
    "        ax_hat, ay_hat = self.lens.alpha_hat(bx_md, by_md, z_s, x)\n",
    "\n",
    "        # Ray-trace to source\n",
    "        h_b, alphas, betas, _ = self.b_net.normalizer.forward(\n",
    "            h_b, torch.stack((ax_hat, ay_hat)), torch.stack((bx_md, by_md))\n",
    "        )\n",
    "        b_coords = torch.cat((alphas, betas, z_s.repeat(1, self.n_pix, self.n_pix)))\n",
    "        alpha_b = self.b_net(h_b, b_coords)\n",
    "        alpha_b = self.b_net.normalizer.reverse_alpha(alpha_b[0], -1)  # TODO: batch\n",
    "        bx = self.thx - alpha_b[0]\n",
    "        by = self.thx - alpha_b[1]\n",
    "\n",
    "        return self.src.brightness(bx, by, x)"
   ]
  },
  {
   "cell_type": "code",
   "execution_count": null,
   "id": "e735b383",
   "metadata": {},
   "outputs": [],
   "source": []
  },
  {
   "cell_type": "code",
   "execution_count": null,
   "id": "3cc4c2ad",
   "metadata": {},
   "outputs": [],
   "source": []
  },
  {
   "cell_type": "code",
   "execution_count": null,
   "id": "000b8b38",
   "metadata": {},
   "outputs": [],
   "source": [
    "# f_net shapes\n",
    "# h: (b, n_halos, n_params)\n",
    "# x: (b, 3, n_pix, n_pix), where 3 is for (thx, thy, z)\n",
    "# Output: ax, ay\n",
    "\n",
    "# b_net shapes\n",
    "# h: (b, n_halos, n_params)\n",
    "# x: (b, 5, n_pix, n_pix), where 5 is for (thx, thy, ax_hat, ay_hat, z)\n",
    "# Output: ax, ay"
   ]
  },
  {
   "cell_type": "code",
   "execution_count": 4,
   "id": "5cb9163d",
   "metadata": {},
   "outputs": [
    {
     "name": "stdout",
     "output_type": "stream",
     "text": [
      "caught exception:  \"cannot add FlatLambdaCDM(name='cosmo', static=[rho_cr_0, Om0], dynamic=[h0], x keys=[('cosmo': ['h0'])]): a component with the name 'cosmo' already exists in the model DAG\" \n",
      "\n",
      "Simulator(\n",
      "    name='sim',\n",
      "    static=[z_s],\n",
      "    dynamic=[],\n",
      "    x keys=[('sie': ['z_l']), ('cosmo': ['h0']), ('src': ['thx0', 'thy0'])]\n",
      ") \n",
      "\n",
      "SIE(\n",
      "    name='sie',\n",
      "    static=[thx0, thy0, q, phi, b],\n",
      "    dynamic=[z_l],\n",
      "    x keys=[('sie': ['z_l']), ('cosmo': ['h0'])]\n",
      ") \n",
      "\n",
      "FlatLambdaCDM(\n",
      "    name='cosmo',\n",
      "    static=[rho_cr_0, Om0],\n",
      "    dynamic=[h0],\n",
      "    x keys=[('cosmo': ['h0'])]\n",
      ") \n",
      "\n",
      "Sersic(\n",
      "    name='src',\n",
      "    static=[q, phi, index, th_e, I_e],\n",
      "    dynamic=[thx0, thy0],\n",
      "    x keys=[('src': ['thx0', 'thy0'])]\n",
      ") \n",
      "\n",
      "testing x size error checking:\n",
      "caught exception:  0 flattened dynamic args were passed, but 4 are required \n",
      "\n",
      "running with valid argument vector\n",
      "\n",
      "vmap shape check: torch.Size([10, 50, 50])\n"
     ]
    },
    {
     "data": {
      "image/png": "[encoded data removed]",
      "text/plain": [
       "<Figure size 432x288 with 1 Axes>"
      ]
     },
     "metadata": {
      "needs_background": "light"
     },
     "output_type": "display_data"
    }
   ],
   "source": [
    "# Set up cosmology, marking H0 as dynamic\n",
    "cosmo = FlatLambdaCDM(\"cosmo\", h0=None)\n",
    "\n",
    "# Static SIE args: z_l, thx0, thy0, q, phi, b\n",
    "x_lens = torch.tensor([0.0, 0.0, 0.8, pi / 6, 1.5])\n",
    "try:\n",
    "    sie = SIE(\"cosmo\", cosmo, None, *x_lens)\n",
    "except KeyError as e:\n",
    "    print(\"caught exception: \", e, \"\\n\")\n",
    "\n",
    "sie = SIE(\"sie\", cosmo, None, *x_lens)\n",
    "\n",
    "# Static Sersic args: q, phi, index, th_e, I_e\n",
    "x_src = torch.tensor([0.6, pi / 4, 4.0, 2.5, 1.0])\n",
    "src = Sersic(\"src\", None, None, *x_src)\n",
    "\n",
    "sim = Simulator(0.1, 50, sie, src, torch.tensor(0.8))\n",
    "print(sim, \"\\n\")\n",
    "print(sie, \"\\n\")\n",
    "print(cosmo, \"\\n\")\n",
    "print(src, \"\\n\")\n",
    "\n",
    "print(\"testing x size error checking:\")\n",
    "x = torch.tensor([])\n",
    "try:\n",
    "    sim.x_to_dict(x)\n",
    "except ValueError as e:\n",
    "    print(\"caught exception: \", e, \"\\n\")\n",
    "\n",
    "print(\"running with valid argument vector\")\n",
    "x = torch.tensor([0.8, 0.7, 0.13, 0.04])\n",
    "plt.imshow(sim(x), origin=\"lower\", cmap=\"RdBu_r\")\n",
    "print()\n",
    "\n",
    "print(\"vmap shape check:\", vmap(sim)(x.repeat(10, 1)).shape)"
   ]
  },
  {
   "cell_type": "code",
   "execution_count": 19,
   "id": "0954f2b2",
   "metadata": {},
   "outputs": [
    {
     "data": {
      "image/svg+xml": [
       "<?xml version=\"1.0\" encoding=\"UTF-8\" standalone=\"no\"?>\n",
       "<!DOCTYPE svg PUBLIC \"-//W3C//DTD SVG 1.1//EN\"\n",
       " \"http://www.w3.org/Graphics/SVG/1.1/DTD/svg11.dtd\">\n",
       "<!-- Generated by graphviz version 7.1.0 (20230121.1956)\n",
       " -->\n",
       "<!-- Pages: 1 -->\n",
       "<svg width=\"278pt\" height=\"188pt\"\n",
       " viewBox=\"0.00 0.00 277.94 188.00\" xmlns=\"http://www.w3.org/2000/svg\" xmlns:xlink=\"http://www.w3.org/1999/xlink\">\n",
       "<g id=\"graph0\" class=\"graph\" transform=\"scale(1 1) rotate(0) translate(4 184)\">\n",
       "<polygon fill=\"white\" stroke=\"none\" points=\"-4,4 -4,-184 273.94,-184 273.94,4 -4,4\"/>\n",
       "<!-- sim -->\n",
       "<g id=\"node1\" class=\"node\">\n",
       "<title>sim</title>\n",
       "<ellipse fill=\"none\" stroke=\"black\" cx=\"162.59\" cy=\"-162\" rx=\"67.69\" ry=\"18\"/>\n",
       "<text text-anchor=\"middle\" x=\"162.59\" y=\"-158.3\" font-family=\"Times,serif\" font-size=\"14.00\">Simulator(&#39;sim&#39;)</text>\n",
       "</g>\n",
       "<!-- sie -->\n",
       "<g id=\"node2\" class=\"node\">\n",
       "<title>sie</title>\n",
       "<ellipse fill=\"none\" stroke=\"black\" cx=\"106.59\" cy=\"-90\" rx=\"42.49\" ry=\"18\"/>\n",
       "<text text-anchor=\"middle\" x=\"106.59\" y=\"-86.3\" font-family=\"Times,serif\" font-size=\"14.00\">SIE(&#39;sie&#39;)</text>\n",
       "</g>\n",
       "<!-- sim&#45;&gt;sie -->\n",
       "<g id=\"edge1\" class=\"edge\">\n",
       "<title>sim&#45;&gt;sie</title>\n",
       "<path fill=\"none\" stroke=\"black\" d=\"M149.03,-144.05C142.33,-135.68 134.11,-125.4 126.7,-116.13\"/>\n",
       "<polygon fill=\"black\" stroke=\"black\" points=\"129.56,-114.11 120.58,-108.49 124.1,-118.48 129.56,-114.11\"/>\n",
       "</g>\n",
       "<!-- src -->\n",
       "<g id=\"node4\" class=\"node\">\n",
       "<title>src</title>\n",
       "<ellipse fill=\"none\" stroke=\"black\" cx=\"218.59\" cy=\"-90\" rx=\"51.19\" ry=\"18\"/>\n",
       "<text text-anchor=\"middle\" x=\"218.59\" y=\"-86.3\" font-family=\"Times,serif\" font-size=\"14.00\">Sersic(&#39;src&#39;)</text>\n",
       "</g>\n",
       "<!-- sim&#45;&gt;src -->\n",
       "<g id=\"edge3\" class=\"edge\">\n",
       "<title>sim&#45;&gt;src</title>\n",
       "<path fill=\"none\" stroke=\"black\" d=\"M176.15,-144.05C182.75,-135.8 190.83,-125.7 198.16,-116.54\"/>\n",
       "<polygon fill=\"black\" stroke=\"black\" points=\"200.7,-118.97 204.21,-108.97 195.23,-114.59 200.7,-118.97\"/>\n",
       "</g>\n",
       "<!-- cosmo -->\n",
       "<g id=\"node3\" class=\"node\">\n",
       "<title>cosmo</title>\n",
       "<ellipse fill=\"none\" stroke=\"black\" cx=\"106.59\" cy=\"-18\" rx=\"106.68\" ry=\"18\"/>\n",
       "<text text-anchor=\"middle\" x=\"106.59\" y=\"-14.3\" font-family=\"Times,serif\" font-size=\"14.00\">FlatLambdaCDM(&#39;cosmo&#39;)</text>\n",
       "</g>\n",
       "<!-- sie&#45;&gt;cosmo -->\n",
       "<g id=\"edge2\" class=\"edge\">\n",
       "<title>sie&#45;&gt;cosmo</title>\n",
       "<path fill=\"none\" stroke=\"black\" d=\"M106.59,-71.7C106.59,-64.41 106.59,-55.73 106.59,-47.54\"/>\n",
       "<polygon fill=\"black\" stroke=\"black\" points=\"110.09,-47.62 106.59,-37.62 103.09,-47.62 110.09,-47.62\"/>\n",
       "</g>\n",
       "</g>\n",
       "</svg>\n"
      ],
      "text/plain": [
       "<graphviz.graphs.Digraph at 0x1766aea10>"
      ]
     },
     "execution_count": 19,
     "metadata": {},
     "output_type": "execute_result"
    }
   ],
   "source": [
    "sim.get_graph()"
   ]
  },
  {
   "cell_type": "code",
   "execution_count": null,
   "id": "b4a969af",
   "metadata": {},
   "outputs": [],
   "source": [
    "sim.get_graph(True, True).render(\"/Users/amcoogan/Downloads/sim-weird\")"
   ]
  },
  {
   "cell_type": "code",
   "execution_count": null,
   "id": "7bcd4c3e",
   "metadata": {},
   "outputs": [],
   "source": []
  },
  {
   "cell_type": "code",
   "execution_count": null,
   "id": "61d3a2b4",
   "metadata": {},
   "outputs": [],
   "source": []
  },
  {
   "cell_type": "code",
   "execution_count": null,
   "id": "546c6042",
   "metadata": {},
   "outputs": [],
   "source": [
    "fov = 5.0\n",
    "n_pix = 1_000\n",
    "thx, thy = get_meshgrid(fov / n_pix, n_pix, n_pix)\n",
    "z_s = torch.tensor(2.1)\n",
    "x = torch.tensor([0.8, 0.7])"
   ]
  },
  {
   "cell_type": "code",
   "execution_count": null,
   "id": "0a08b940",
   "metadata": {},
   "outputs": [],
   "source": [
    "sie.magnification(thx, thy, z_s, sie.x_to_dict(x))"
   ]
  },
  {
   "cell_type": "code",
   "execution_count": null,
   "id": "915d83be",
   "metadata": {},
   "outputs": [],
   "source": []
  },
  {
   "cell_type": "code",
   "execution_count": null,
   "id": "a5b5645f",
   "metadata": {},
   "outputs": [],
   "source": []
  },
  {
   "cell_type": "markdown",
   "id": "17b204d8",
   "metadata": {},
   "source": [
    "There are a few things I'm not clear on with this approach.\n",
    "- In this approach, I don't think we can't run the same model component on different parameters: through the component's name, it's tied to one set of parameters in `x`. This makes it expensive to do things like include multiple `KappaGrid` lenses: each set of `Param`s must be associated with one `KappaGrid`, so we need to create a redundant set of kernels.\n",
    "- How should we handle `Param`s like `z_s`? In what's above, I made this a parameter of the simulator, but that means we have to explicitly pass it to `raytrace`. How will this generalize?\n",
    "- Is it confusing that names of `Param`s and `Parametrized` don't match the names of the attributes they're bound to?"
   ]
  },
  {
   "cell_type": "code",
   "execution_count": null,
   "id": "cb0b53db",
   "metadata": {},
   "outputs": [],
   "source": []
  }
 ],
 "metadata": {
  "kernelspec": {
   "display_name": "Python 3 (ipykernel)",
   "language": "python",
   "name": "python3"
  },
  "language_info": {
   "codemirror_mode": {
    "name": "ipython",
    "version": 3
   },
   "file_extension": ".py",
   "mimetype": "text/x-python",
   "name": "python",
   "nbconvert_exporter": "python",
   "pygments_lexer": "ipython3",
   "version": "3.10.3"
  }
 },
 "nbformat": 4,
 "nbformat_minor": 5
}
